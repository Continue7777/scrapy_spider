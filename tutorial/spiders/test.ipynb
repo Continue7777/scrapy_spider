{
 "cells": [
  {
   "cell_type": "code",
   "execution_count": 30,
   "metadata": {},
   "outputs": [],
   "source": [
    "import requests\n",
    "\n",
    "cookies = {\n",
    "    '_ga': 'GA1.2.1328724326.1583206558',\n",
    "    '_fbp': 'fb.1.1583209030738.1211827902',\n",
    "    '_gid': 'GA1.2.1435851772.1585276442',\n",
    "    'device_session': 'eyJwYXNzY29kZSI6NDE4MDJ9:1jHl7m:5Ft_M8wHT2Iu9Rt0zzMLXGvM2kM',\n",
    "    '_gat': '1',\n",
    "    '_gat_pageTracker': '1',\n",
    "    'csrftoken': 'IZRL6OWnzU06o7iOHRypvRskYGF4IEUaf4I3p0RnINEM56bhUFyF592ivkKMcZvr',\n",
    "    'sessionid': 'x1mr09wzf7teh5gj08avwpmk8q867drt',\n",
    "}\n",
    "\n",
    "headers = {\n",
    "    'Connection': 'keep-alive',\n",
    "    'Upgrade-Insecure-Requests': '1',\n",
    "    'User-Agent': 'Mozilla/5.0 (Windows NT 10.0; Win64; x64) AppleWebKit/537.36 (KHTML, like Gecko) Chrome/80.0.3987.149 Safari/537.36',\n",
    "    'Sec-Fetch-Dest': 'document',\n",
    "    'Accept': 'text/html,application/xhtml+xml,application/xml;q=0.9,image/webp,image/apng,*/*;q=0.8,application/signed-exchange;v=b3;q=0.9',\n",
    "    'Sec-Fetch-Site': 'cross-site',\n",
    "    'Sec-Fetch-Mode': 'navigate',\n",
    "    'Sec-Fetch-User': '?1',\n",
    "    'Referer': 'https://dmmspy.com/login/?next=/v2/dynamic-grid%3Fpage%3D2',\n",
    "    'Accept-Language': 'zh-CN,zh;q=0.9',\n",
    "}\n",
    "\n",
    "params = (\n",
    "    ('page', '2'),\n",
    ")\n",
    "\n",
    "response = requests.get('https://dmmspy.com/v2/dynamic-grid', headers=headers, params=params, cookies=cookies)\n",
    "\n",
    "#NB. Original query string below. It seems impossible to parse and\n",
    "#reproduce query strings 100% accurately so the one below is given\n",
    "#in case the reproduced version is not \"correct\".\n",
    "# response = requests.get('https://dmmspy.com/v2/dynamic-grid?page=2', headers=headers, cookies=cookies)\n"
   ]
  },
  {
   "cell_type": "code",
   "execution_count": 31,
   "metadata": {},
   "outputs": [],
   "source": [
    "from bs4 import BeautifulSoup\n",
    "soup = BeautifulSoup(response.text)\n",
    "# div_captions = soup.find_all(name='div',class_=\"caption\")"
   ]
  },
  {
   "cell_type": "code",
   "execution_count": 32,
   "metadata": {},
   "outputs": [],
   "source": [
    "soup = BeautifulSoup(response.text)\n",
    "div_captions = soup.find_all(name='div',class_=\"caption\")"
   ]
  },
  {
   "cell_type": "code",
   "execution_count": 42,
   "metadata": {},
   "outputs": [
    {
     "data": {
      "text/plain": [
       "'/v2/post-info?owner_id=601587766659817&id=5bceb07588da44575ee1609f'"
      ]
     },
     "execution_count": 42,
     "metadata": {},
     "output_type": "execute_result"
    }
   ],
   "source": [
    "div_captions[0].parent.find_all(\"a\",{\"title\":\"Post Info\"})[0]['href']"
   ]
  },
  {
   "cell_type": "code",
   "execution_count": 11,
   "metadata": {},
   "outputs": [
    {
     "data": {
      "text/plain": [
       "'/v2/post-info?owner_id=401387790266921&id=5e7a59cb1c4d824e2791c514'"
      ]
     },
     "execution_count": 11,
     "metadata": {},
     "output_type": "execute_result"
    }
   ],
   "source": []
  },
  {
   "cell_type": "code",
   "execution_count": 45,
   "metadata": {},
   "outputs": [],
   "source": [
    "x = requests.get('https://dmmspy.com/v2/post-info?owner_id=108238187343990&id=5e7d845b1c4d824e27e2d6d3', headers=headers, cookies=cookies)"
   ]
  },
  {
   "cell_type": "code",
   "execution_count": 46,
   "metadata": {},
   "outputs": [],
   "source": [
    "soup = BeautifulSoup(x.text)"
   ]
  },
  {
   "cell_type": "code",
   "execution_count": 56,
   "metadata": {},
   "outputs": [
    {
     "data": {
      "text/plain": [
       "u'\\n        \\n            Custom lighter\\U0001f60d\\U0001f60dPrint photos on lighter\\U0001f4a5\\U0001f4a5Best gift ideas\\U0001f4a5\\U0001f4a5https://www.myphotolighter.com/\\n#lighter #custommade #PhotoLighter #Zippo #Gift #smoking #lovers #valentine #boyfriend #father #family #Customgift #photo #photography\\n        \\n     '"
      ]
     },
     "execution_count": 56,
     "metadata": {},
     "output_type": "execute_result"
    }
   ],
   "source": [
    "soup.find_all(\"div\",{\"title\":\"Post Content\"})[0].contents[-1]"
   ]
  },
  {
   "cell_type": "code",
   "execution_count": 96,
   "metadata": {},
   "outputs": [],
   "source": [
    "class A:\n",
    "\n",
    "    def func(self):\n",
    "        return scrapy.Request(\"https://www.qq.com\",dont_filter=True)\n",
    "    \n",
    "    def parse_2(self,i):\n",
    "        return i\n",
    "    \n",
    "    def parse_1(self):\n",
    "        for i in range(10):\n",
    "            yield self.parse_2(i)\n",
    "    \n",
    "    \n",
    "    def parse(self):\n",
    "#         x = \n",
    "        return self.parse_1()\n",
    "  "
   ]
  },
  {
   "cell_type": "code",
   "execution_count": 97,
   "metadata": {},
   "outputs": [],
   "source": [
    "a = A()"
   ]
  },
  {
   "cell_type": "code",
   "execution_count": 98,
   "metadata": {},
   "outputs": [
    {
     "name": "stdout",
     "output_type": "stream",
     "text": [
      "0\n",
      "1\n",
      "2\n",
      "3\n",
      "4\n"
     ]
    }
   ],
   "source": [
    "g = a.parse()\n",
    "for i in range(5):\n",
    "    print g.next()"
   ]
  },
  {
   "cell_type": "code",
   "execution_count": null,
   "metadata": {},
   "outputs": [],
   "source": []
  },
  {
   "cell_type": "code",
   "execution_count": null,
   "metadata": {},
   "outputs": [],
   "source": []
  }
 ],
 "metadata": {
  "kernelspec": {
   "display_name": "Python 2",
   "language": "python",
   "name": "python2"
  },
  "language_info": {
   "codemirror_mode": {
    "name": "ipython",
    "version": 2
   },
   "file_extension": ".py",
   "mimetype": "text/x-python",
   "name": "python",
   "nbconvert_exporter": "python",
   "pygments_lexer": "ipython2",
   "version": "2.7.16"
  }
 },
 "nbformat": 4,
 "nbformat_minor": 2
}
