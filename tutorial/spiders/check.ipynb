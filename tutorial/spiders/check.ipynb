{
 "cells": [
  {
   "cell_type": "markdown",
   "metadata": {},
   "source": [
    "# 查看商品详情数据，500w条,5w+ domain"
   ]
  },
  {
   "cell_type": "code",
   "execution_count": 74,
   "metadata": {},
   "outputs": [],
   "source": [
    "import pandas as pd "
   ]
  },
  {
   "cell_type": "code",
   "execution_count": 75,
   "metadata": {},
   "outputs": [],
   "source": [
    "product_df = pd.read_csv(\"result/product_detail.csv\",sep=',',names=['platform','owner_name','domain','link','pixelId','facebook_url','like_num','share_num','comment_num'])"
   ]
  },
  {
   "cell_type": "code",
   "execution_count": null,
   "metadata": {},
   "outputs": [],
   "source": [
    "# get best domain\n",
    "count_df = product_df.groupby(\"domain\")['like_num'].count().reset_index()\n",
    "count_df.columns = ['domain','count_num']\n",
    "count_df.sort_values(\"count_num\",ascending=False)"
   ]
  },
  {
   "cell_type": "code",
   "execution_count": 76,
   "metadata": {},
   "outputs": [
    {
     "data": {
      "text/html": [
       "<div>\n",
       "<style scoped>\n",
       "    .dataframe tbody tr th:only-of-type {\n",
       "        vertical-align: middle;\n",
       "    }\n",
       "\n",
       "    .dataframe tbody tr th {\n",
       "        vertical-align: top;\n",
       "    }\n",
       "\n",
       "    .dataframe thead th {\n",
       "        text-align: right;\n",
       "    }\n",
       "</style>\n",
       "<table border=\"1\" class=\"dataframe\">\n",
       "  <thead>\n",
       "    <tr style=\"text-align: right;\">\n",
       "      <th></th>\n",
       "      <th>platform</th>\n",
       "      <th>owner_name</th>\n",
       "      <th>domain</th>\n",
       "      <th>link</th>\n",
       "      <th>pixelId</th>\n",
       "      <th>facebook_url</th>\n",
       "      <th>like_num</th>\n",
       "      <th>share_num</th>\n",
       "      <th>comment_num</th>\n",
       "    </tr>\n",
       "  </thead>\n",
       "  <tbody>\n",
       "    <tr>\n",
       "      <th>5476704</th>\n",
       "      <td>SHOPIFY</td>\n",
       "      <td>Lineworker</td>\n",
       "      <td>templaran.com</td>\n",
       "      <td>https://templaran.com/products/nvl-tp037</td>\n",
       "      <td>NaN</td>\n",
       "      <td>http://dmmspy.com//external-url/?data=eyJ1cmwi...</td>\n",
       "      <td>7</td>\n",
       "      <td>1</td>\n",
       "      <td>0</td>\n",
       "    </tr>\n",
       "    <tr>\n",
       "      <th>5476705</th>\n",
       "      <td>SHOPIFY</td>\n",
       "      <td>Love Being in The Army</td>\n",
       "      <td>templaran.com</td>\n",
       "      <td>https://tinyurl.com/r2enwyj</td>\n",
       "      <td>NaN</td>\n",
       "      <td>http://dmmspy.com//external-url/?data=eyJ1cmwi...</td>\n",
       "      <td>2</td>\n",
       "      <td>0</td>\n",
       "      <td>1</td>\n",
       "    </tr>\n",
       "    <tr>\n",
       "      <th>5476706</th>\n",
       "      <td>WOOCOMMERCE</td>\n",
       "      <td>Cute Dog Lover</td>\n",
       "      <td>maxxingtee.net</td>\n",
       "      <td>https://bit.ly/34BtXvF</td>\n",
       "      <td>886096358165882</td>\n",
       "      <td>http://dmmspy.com//external-url/?data=eyJ1cmwi...</td>\n",
       "      <td>7</td>\n",
       "      <td>1</td>\n",
       "      <td>1</td>\n",
       "    </tr>\n",
       "    <tr>\n",
       "      <th>5476707</th>\n",
       "      <td>MERCHIZE</td>\n",
       "      <td>Old Man - Clothing</td>\n",
       "      <td>oldman3dltd.com</td>\n",
       "      <td>https://oldman3dltd.com/hh0015</td>\n",
       "      <td>NaN</td>\n",
       "      <td>http://dmmspy.com//external-url/?data=eyJ1cmwi...</td>\n",
       "      <td>12</td>\n",
       "      <td>2</td>\n",
       "      <td>0</td>\n",
       "    </tr>\n",
       "    <tr>\n",
       "      <th>5476708</th>\n",
       "      <td>SHOPIFY</td>\n",
       "      <td>Dogs before Dudes</td>\n",
       "      <td>templaran.com</td>\n",
       "      <td>https://rebrand.ly/tz3ubi</td>\n",
       "      <td>NaN</td>\n",
       "      <td>http://dmmspy.com//external-url/?data=eyJ1cmwi...</td>\n",
       "      <td>NaN</td>\n",
       "      <td>NaN</td>\n",
       "      <td>NaN</td>\n",
       "    </tr>\n",
       "  </tbody>\n",
       "</table>\n",
       "</div>"
      ],
      "text/plain": [
       "            platform              owner_name           domain  \\\n",
       "5476704      SHOPIFY              Lineworker    templaran.com   \n",
       "5476705      SHOPIFY  Love Being in The Army    templaran.com   \n",
       "5476706  WOOCOMMERCE          Cute Dog Lover   maxxingtee.net   \n",
       "5476707     MERCHIZE      Old Man - Clothing  oldman3dltd.com   \n",
       "5476708      SHOPIFY       Dogs before Dudes    templaran.com   \n",
       "\n",
       "                                             link          pixelId  \\\n",
       "5476704  https://templaran.com/products/nvl-tp037              NaN   \n",
       "5476705               https://tinyurl.com/r2enwyj              NaN   \n",
       "5476706                    https://bit.ly/34BtXvF  886096358165882   \n",
       "5476707            https://oldman3dltd.com/hh0015              NaN   \n",
       "5476708                 https://rebrand.ly/tz3ubi              NaN   \n",
       "\n",
       "                                              facebook_url like_num share_num  \\\n",
       "5476704  http://dmmspy.com//external-url/?data=eyJ1cmwi...        7         1   \n",
       "5476705  http://dmmspy.com//external-url/?data=eyJ1cmwi...        2         0   \n",
       "5476706  http://dmmspy.com//external-url/?data=eyJ1cmwi...        7         1   \n",
       "5476707  http://dmmspy.com//external-url/?data=eyJ1cmwi...       12         2   \n",
       "5476708  http://dmmspy.com//external-url/?data=eyJ1cmwi...      NaN       NaN   \n",
       "\n",
       "        comment_num  \n",
       "5476704           0  \n",
       "5476705           1  \n",
       "5476706           1  \n",
       "5476707           0  \n",
       "5476708         NaN  "
      ]
     },
     "execution_count": 76,
     "metadata": {},
     "output_type": "execute_result"
    }
   ],
   "source": [
    "product_df.tail()"
   ]
  },
  {
   "cell_type": "code",
   "execution_count": 77,
   "metadata": {},
   "outputs": [
    {
     "data": {
      "text/plain": [
       "55931"
      ]
     },
     "execution_count": 77,
     "metadata": {},
     "output_type": "execute_result"
    }
   ],
   "source": [
    "len(set(product_df['domain'].tolist()))"
   ]
  },
  {
   "cell_type": "markdown",
   "metadata": {},
   "source": [
    "# 查看已经搜索的Key"
   ]
  },
  {
   "cell_type": "code",
   "execution_count": 149,
   "metadata": {},
   "outputs": [],
   "source": [
    "import pandas as pd\n",
    "used_df = pd.read_csv(\"data_config/key_page_used.csv\",sep='\\t',names=['key','page'])"
   ]
  },
  {
   "cell_type": "code",
   "execution_count": 150,
   "metadata": {},
   "outputs": [
    {
     "data": {
      "text/html": [
       "<div>\n",
       "<style scoped>\n",
       "    .dataframe tbody tr th:only-of-type {\n",
       "        vertical-align: middle;\n",
       "    }\n",
       "\n",
       "    .dataframe tbody tr th {\n",
       "        vertical-align: top;\n",
       "    }\n",
       "\n",
       "    .dataframe thead th {\n",
       "        text-align: right;\n",
       "    }\n",
       "</style>\n",
       "<table border=\"1\" class=\"dataframe\">\n",
       "  <thead>\n",
       "    <tr style=\"text-align: right;\">\n",
       "      <th></th>\n",
       "      <th>key</th>\n",
       "      <th>page</th>\n",
       "    </tr>\n",
       "  </thead>\n",
       "  <tbody>\n",
       "    <tr>\n",
       "      <th>274145</th>\n",
       "      <td>t-shirt printing label private 3d</td>\n",
       "      <td>65</td>\n",
       "    </tr>\n",
       "    <tr>\n",
       "      <th>274146</th>\n",
       "      <td>t-shirt printing label private 3d</td>\n",
       "      <td>66</td>\n",
       "    </tr>\n",
       "    <tr>\n",
       "      <th>274147</th>\n",
       "      <td>t-shirt printing label private 3d</td>\n",
       "      <td>67</td>\n",
       "    </tr>\n",
       "    <tr>\n",
       "      <th>274148</th>\n",
       "      <td>t-shirt printing label private 3d</td>\n",
       "      <td>68</td>\n",
       "    </tr>\n",
       "    <tr>\n",
       "      <th>274149</th>\n",
       "      <td>t-shirt printing label private 3d</td>\n",
       "      <td>69</td>\n",
       "    </tr>\n",
       "  </tbody>\n",
       "</table>\n",
       "</div>"
      ],
      "text/plain": [
       "                                      key page\n",
       "274145  t-shirt printing label private 3d   65\n",
       "274146  t-shirt printing label private 3d   66\n",
       "274147  t-shirt printing label private 3d   67\n",
       "274148  t-shirt printing label private 3d   68\n",
       "274149  t-shirt printing label private 3d   69"
      ]
     },
     "execution_count": 150,
     "metadata": {},
     "output_type": "execute_result"
    }
   ],
   "source": [
    "used_df.tail()"
   ]
  },
  {
   "cell_type": "code",
   "execution_count": 80,
   "metadata": {},
   "outputs": [],
   "source": [
    "keys = set([i.split(\"\\t\")[0] for i in used_df['key'].tolist()])"
   ]
  },
  {
   "cell_type": "code",
   "execution_count": 62,
   "metadata": {},
   "outputs": [],
   "source": [
    "key_df = pd.read_csv(\"data_config/key_word.csv\",sep='\\t')"
   ]
  },
  {
   "cell_type": "code",
   "execution_count": 81,
   "metadata": {},
   "outputs": [
    {
     "data": {
      "text/plain": [
       "3450"
      ]
     },
     "execution_count": 81,
     "metadata": {},
     "output_type": "execute_result"
    }
   ],
   "source": [
    "len(set(used_df['key'].tolist()))"
   ]
  },
  {
   "cell_type": "markdown",
   "metadata": {},
   "source": [
    "# 查看检查有效的domain"
   ]
  },
  {
   "cell_type": "code",
   "execution_count": 111,
   "metadata": {},
   "outputs": [],
   "source": [
    "domain_check_df = pd.read_csv('result/domain_check.csv',sep='\\t',header=None,names=['domain','code'])"
   ]
  },
  {
   "cell_type": "markdown",
   "metadata": {},
   "source": [
    "# 查看类目趋势变化"
   ]
  },
  {
   "cell_type": "code",
   "execution_count": 127,
   "metadata": {},
   "outputs": [],
   "source": [
    "product_sort_df = pd.read_csv(\"result/product_detail_sort_0324_0327.csv\",sep=',',names=['platform','owner_name','domain','link','pixelId','like_num','share_num','comment_num','search_word'])"
   ]
  },
  {
   "cell_type": "code",
   "execution_count": 128,
   "metadata": {},
   "outputs": [],
   "source": [
    "today_key = product_sort_df[product_sort_df['like_num'] > 5]['search_word'].value_counts().head(10)"
   ]
  },
  {
   "cell_type": "code",
   "execution_count": 147,
   "metadata": {},
   "outputs": [],
   "source": [
    "product_sort_df = pd.read_csv(\"result/product_detail_sort_1224_1227.csv\",sep=',',names=['platform','owner_name','domain','link','pixelId','like_num','share_num','comment_num','search_word','title','describe'])"
   ]
  },
  {
   "cell_type": "code",
   "execution_count": 148,
   "metadata": {},
   "outputs": [
    {
     "data": {
      "text/html": [
       "<div>\n",
       "<style scoped>\n",
       "    .dataframe tbody tr th:only-of-type {\n",
       "        vertical-align: middle;\n",
       "    }\n",
       "\n",
       "    .dataframe tbody tr th {\n",
       "        vertical-align: top;\n",
       "    }\n",
       "\n",
       "    .dataframe thead th {\n",
       "        text-align: right;\n",
       "    }\n",
       "</style>\n",
       "<table border=\"1\" class=\"dataframe\">\n",
       "  <thead>\n",
       "    <tr style=\"text-align: right;\">\n",
       "      <th></th>\n",
       "      <th>platform</th>\n",
       "      <th>owner_name</th>\n",
       "      <th>domain</th>\n",
       "      <th>link</th>\n",
       "      <th>pixelId</th>\n",
       "      <th>like_num</th>\n",
       "      <th>share_num</th>\n",
       "      <th>comment_num</th>\n",
       "      <th>search_word</th>\n",
       "      <th>title</th>\n",
       "      <th>describe</th>\n",
       "    </tr>\n",
       "  </thead>\n",
       "  <tbody>\n",
       "    <tr>\n",
       "      <th>175</th>\n",
       "      <td>SHOPIFY</td>\n",
       "      <td>DEAD POSH</td>\n",
       "      <td>dead-posh.com</td>\n",
       "      <td>https://dead-posh.com/collections/t-shirts/pro...</td>\n",
       "      <td>NaN</td>\n",
       "      <td>0</td>\n",
       "      <td>0</td>\n",
       "      <td>0</td>\n",
       "      <td>shirts</td>\n",
       "      <td>TOP RANKING DUB - The Revolutionaries - 1978</td>\n",
       "      <td>TOP RANKING DUB - The Revolutionaries - 1978ht...</td>\n",
       "    </tr>\n",
       "    <tr>\n",
       "      <th>176</th>\n",
       "      <td>WOOCOMMERCE</td>\n",
       "      <td>Kool Kool Custom Design</td>\n",
       "      <td>kool-kool.com</td>\n",
       "      <td>https://kool-kool.com/product/car-bk88-full-jdm/</td>\n",
       "      <td>1211621452350048</td>\n",
       "      <td>0</td>\n",
       "      <td>0</td>\n",
       "      <td>0</td>\n",
       "      <td>shirts</td>\n",
       "      <td>Car Personalized Photo Apparel (BK88)</td>\n",
       "      <td>Really nice the shirts and fast shipping.#revi...</td>\n",
       "    </tr>\n",
       "    <tr>\n",
       "      <th>177</th>\n",
       "      <td>MERCHKING</td>\n",
       "      <td>Love Elephants So Much</td>\n",
       "      <td>dsk-custom.com</td>\n",
       "      <td>https://rebrand.ly/elephant-flag</td>\n",
       "      <td>2268572206502831</td>\n",
       "      <td>0</td>\n",
       "      <td>0</td>\n",
       "      <td>0</td>\n",
       "      <td>shirts</td>\n",
       "      <td>ELEPHANT: Awesome Premium Blanket</td>\n",
       "      <td>🐘 Awesome Premium Blanket for Elephant Lovers....</td>\n",
       "    </tr>\n",
       "    <tr>\n",
       "      <th>178</th>\n",
       "      <td>MERCHKING</td>\n",
       "      <td>Nice shirts 462</td>\n",
       "      <td>cle-store.com</td>\n",
       "      <td>http://cle-store.com/B4L1-AF10-P085</td>\n",
       "      <td>469635903755104</td>\n",
       "      <td>0</td>\n",
       "      <td>0</td>\n",
       "      <td>0</td>\n",
       "      <td>shirts</td>\n",
       "      <td>B4L1AF10 CHEW</td>\n",
       "      <td>(y) This blanket is perfect for you !!!(y) Ord...</td>\n",
       "    </tr>\n",
       "    <tr>\n",
       "      <th>179</th>\n",
       "      <td>TEEHAG</td>\n",
       "      <td>Family T-shirt</td>\n",
       "      <td>teehag.com</td>\n",
       "      <td>https://teehag.com/user/rocketshirt/t-shirt/44...</td>\n",
       "      <td>2423549407739172</td>\n",
       "      <td>0</td>\n",
       "      <td>0</td>\n",
       "      <td>0</td>\n",
       "      <td>shirts</td>\n",
       "      <td>T-Shirts By rocketshirt | TeeHag</td>\n",
       "      <td>Limited Edition - MastodonBuy it now ==&gt; https...</td>\n",
       "    </tr>\n",
       "  </tbody>\n",
       "</table>\n",
       "</div>"
      ],
      "text/plain": [
       "        platform               owner_name          domain  \\\n",
       "175      SHOPIFY                DEAD POSH   dead-posh.com   \n",
       "176  WOOCOMMERCE  Kool Kool Custom Design   kool-kool.com   \n",
       "177    MERCHKING   Love Elephants So Much  dsk-custom.com   \n",
       "178    MERCHKING          Nice shirts 462   cle-store.com   \n",
       "179       TEEHAG           Family T-shirt      teehag.com   \n",
       "\n",
       "                                                  link           pixelId  \\\n",
       "175  https://dead-posh.com/collections/t-shirts/pro...               NaN   \n",
       "176   https://kool-kool.com/product/car-bk88-full-jdm/  1211621452350048   \n",
       "177                   https://rebrand.ly/elephant-flag  2268572206502831   \n",
       "178                http://cle-store.com/B4L1-AF10-P085   469635903755104   \n",
       "179  https://teehag.com/user/rocketshirt/t-shirt/44...  2423549407739172   \n",
       "\n",
       "     like_num  share_num  comment_num search_word  \\\n",
       "175         0          0            0      shirts   \n",
       "176         0          0            0      shirts   \n",
       "177         0          0            0      shirts   \n",
       "178         0          0            0      shirts   \n",
       "179         0          0            0      shirts   \n",
       "\n",
       "                                            title  \\\n",
       "175  TOP RANKING DUB - The Revolutionaries - 1978   \n",
       "176         Car Personalized Photo Apparel (BK88)   \n",
       "177             ELEPHANT: Awesome Premium Blanket   \n",
       "178                                 B4L1AF10 CHEW   \n",
       "179              T-Shirts By rocketshirt | TeeHag   \n",
       "\n",
       "                                              describe  \n",
       "175  TOP RANKING DUB - The Revolutionaries - 1978ht...  \n",
       "176  Really nice the shirts and fast shipping.#revi...  \n",
       "177  🐘 Awesome Premium Blanket for Elephant Lovers....  \n",
       "178  (y) This blanket is perfect for you !!!(y) Ord...  \n",
       "179  Limited Edition - MastodonBuy it now ==> https...  "
      ]
     },
     "execution_count": 148,
     "metadata": {},
     "output_type": "execute_result"
    }
   ],
   "source": [
    "product_sort_df.tail()"
   ]
  },
  {
   "cell_type": "code",
   "execution_count": 130,
   "metadata": {},
   "outputs": [],
   "source": [
    "old_key = product_sort_df[product_sort_df['like_num'] > 5]['search_word'].value_counts().head(10)"
   ]
  },
  {
   "cell_type": "code",
   "execution_count": 138,
   "metadata": {},
   "outputs": [
    {
     "name": "stdout",
     "output_type": "stream",
     "text": [
      "today loss\n",
      "sweatshirts sweatshirt\n",
      "----------\n",
      "today new\n",
      "face masks\n"
     ]
    }
   ],
   "source": [
    "print \"today loss\"\n",
    "for i in old_key.index.tolist():\n",
    "    if i not in today_key.index.tolist():\n",
    "        print i\n",
    "\n",
    "print \"----------\"\n",
    "        \n",
    "print \"today new\"\n",
    "for i in today_key.index.tolist():\n",
    "    if i not in old_key.index.tolist():\n",
    "        print i"
   ]
  },
  {
   "cell_type": "code",
   "execution_count": 139,
   "metadata": {},
   "outputs": [
    {
     "data": {
      "text/plain": [
       "shirts shirt                   379\n",
       "gift                           376\n",
       "tank top tops                  225\n",
       "dress dresses                  224\n",
       "hoodies hoodie                 163\n",
       "phone iphone samsung huawei    103\n",
       "jewelry bracelets necklaces     99\n",
       "coffee mugs                     81\n",
       "face masks                      66\n",
       "jackets jacket                  60\n",
       "Name: search_word, dtype: int64"
      ]
     },
     "execution_count": 139,
     "metadata": {},
     "output_type": "execute_result"
    }
   ],
   "source": [
    "today_key"
   ]
  },
  {
   "cell_type": "code",
   "execution_count": 140,
   "metadata": {},
   "outputs": [
    {
     "data": {
      "text/plain": [
       "gift                           376\n",
       "shirts shirt                   367\n",
       "hoodies hoodie                 337\n",
       "dress dresses                  317\n",
       "tank top tops                  216\n",
       "jewelry bracelets necklaces    123\n",
       "jackets jacket                 107\n",
       "phone iphone samsung huawei    107\n",
       "sweatshirts sweatshirt         102\n",
       "coffee mugs                     89\n",
       "Name: search_word, dtype: int64"
      ]
     },
     "execution_count": 140,
     "metadata": {},
     "output_type": "execute_result"
    }
   ],
   "source": [
    "old_key"
   ]
  },
  {
   "cell_type": "markdown",
   "metadata": {},
   "source": [
    "# 研究title describe的发现"
   ]
  },
  {
   "cell_type": "code",
   "execution_count": 159,
   "metadata": {},
   "outputs": [],
   "source": [
    "import pandas as pd\n",
    "product_sort_df = pd.read_csv(\"result/product_detail_sort_1224_1227.csv\",sep=',',names=['platform','owner_name','domain','link','pixelId','like_num','share_num','comment_num','search_word','title','describe'])\n",
    "product_sort_df = product_sort_df.fillna(\"\")"
   ]
  },
  {
   "cell_type": "code",
   "execution_count": 160,
   "metadata": {},
   "outputs": [
    {
     "data": {
      "text/html": [
       "<div>\n",
       "<style scoped>\n",
       "    .dataframe tbody tr th:only-of-type {\n",
       "        vertical-align: middle;\n",
       "    }\n",
       "\n",
       "    .dataframe tbody tr th {\n",
       "        vertical-align: top;\n",
       "    }\n",
       "\n",
       "    .dataframe thead th {\n",
       "        text-align: right;\n",
       "    }\n",
       "</style>\n",
       "<table border=\"1\" class=\"dataframe\">\n",
       "  <thead>\n",
       "    <tr style=\"text-align: right;\">\n",
       "      <th></th>\n",
       "      <th>platform</th>\n",
       "      <th>owner_name</th>\n",
       "      <th>domain</th>\n",
       "      <th>link</th>\n",
       "      <th>pixelId</th>\n",
       "      <th>like_num</th>\n",
       "      <th>share_num</th>\n",
       "      <th>comment_num</th>\n",
       "      <th>search_word</th>\n",
       "      <th>title</th>\n",
       "      <th>describe</th>\n",
       "    </tr>\n",
       "  </thead>\n",
       "  <tbody>\n",
       "    <tr>\n",
       "      <th>468</th>\n",
       "      <td>SHOPIFY</td>\n",
       "      <td>Artpicx</td>\n",
       "      <td>artpicx.com</td>\n",
       "      <td>https://bit.ly/2ZupCtk</td>\n",
       "      <td>2.58874e+15</td>\n",
       "      <td>0</td>\n",
       "      <td>0</td>\n",
       "      <td>0</td>\n",
       "      <td>custom print demand design</td>\n",
       "      <td>CREATE YOUR ARTPICX</td>\n",
       "      <td>Our artists are ready to design a piece of art...</td>\n",
       "    </tr>\n",
       "    <tr>\n",
       "      <th>469</th>\n",
       "      <td>SHOPIFY</td>\n",
       "      <td>Degree T Shirts</td>\n",
       "      <td>degreetshirts.com</td>\n",
       "      <td>https://bit.ly/2QsWwX9</td>\n",
       "      <td></td>\n",
       "      <td>0</td>\n",
       "      <td>0</td>\n",
       "      <td>0</td>\n",
       "      <td>custom print demand design</td>\n",
       "      <td>Arrogance angers God Prov. 21:4 Print T Shirt ...</td>\n",
       "      <td>In spite of all the arrogance people display t...</td>\n",
       "    </tr>\n",
       "    <tr>\n",
       "      <th>470</th>\n",
       "      <td>SHOPIFY</td>\n",
       "      <td>Bookoo Babies</td>\n",
       "      <td>www.bookoobabies.com</td>\n",
       "      <td>https://shortlink.store/RPH1WgOGa</td>\n",
       "      <td>4.13108e+14</td>\n",
       "      <td>0</td>\n",
       "      <td>0</td>\n",
       "      <td>0</td>\n",
       "      <td>custom print demand design</td>\n",
       "      <td>Bookoo Babies Pink Deer Crib Sheet</td>\n",
       "      <td>Have you decided on a Nursery theme?! There ar...</td>\n",
       "    </tr>\n",
       "    <tr>\n",
       "      <th>471</th>\n",
       "      <td>WOOCOMMERCE</td>\n",
       "      <td>Karen Katrina Wood</td>\n",
       "      <td>karenkatrinawood.com</td>\n",
       "      <td>https://karenkatrinawood.com/</td>\n",
       "      <td></td>\n",
       "      <td>0</td>\n",
       "      <td>0</td>\n",
       "      <td>0</td>\n",
       "      <td>custom print demand design</td>\n",
       "      <td>karenkatrinawood – karenkatrinawood</td>\n",
       "      <td>We Don’t Get To Choose Our Family; We Do Get T...</td>\n",
       "    </tr>\n",
       "    <tr>\n",
       "      <th>472</th>\n",
       "      <td>SHOPIFY</td>\n",
       "      <td>Motachic</td>\n",
       "      <td>www.motachic.com</td>\n",
       "      <td>https://bit.ly/2ZoK2nr</td>\n",
       "      <td>5.35022e+14</td>\n",
       "      <td>0</td>\n",
       "      <td>0</td>\n",
       "      <td>0</td>\n",
       "      <td>custom print demand design</td>\n",
       "      <td>Motachic Stripe Print Button Dress (2 Colors)</td>\n",
       "      <td>😍Life isn't perfect but your outfit can be.🤩💰$...</td>\n",
       "    </tr>\n",
       "  </tbody>\n",
       "</table>\n",
       "</div>"
      ],
      "text/plain": [
       "        platform          owner_name                domain  \\\n",
       "468      SHOPIFY             Artpicx           artpicx.com   \n",
       "469      SHOPIFY     Degree T Shirts     degreetshirts.com   \n",
       "470      SHOPIFY       Bookoo Babies  www.bookoobabies.com   \n",
       "471  WOOCOMMERCE  Karen Katrina Wood  karenkatrinawood.com   \n",
       "472      SHOPIFY            Motachic      www.motachic.com   \n",
       "\n",
       "                                  link      pixelId  like_num  share_num  \\\n",
       "468             https://bit.ly/2ZupCtk  2.58874e+15         0          0   \n",
       "469             https://bit.ly/2QsWwX9                      0          0   \n",
       "470  https://shortlink.store/RPH1WgOGa  4.13108e+14         0          0   \n",
       "471      https://karenkatrinawood.com/                      0          0   \n",
       "472             https://bit.ly/2ZoK2nr  5.35022e+14         0          0   \n",
       "\n",
       "     comment_num                 search_word  \\\n",
       "468            0  custom print demand design   \n",
       "469            0  custom print demand design   \n",
       "470            0  custom print demand design   \n",
       "471            0  custom print demand design   \n",
       "472            0  custom print demand design   \n",
       "\n",
       "                                                 title  \\\n",
       "468                                CREATE YOUR ARTPICX   \n",
       "469  Arrogance angers God Prov. 21:4 Print T Shirt ...   \n",
       "470                 Bookoo Babies Pink Deer Crib Sheet   \n",
       "471                karenkatrinawood – karenkatrinawood   \n",
       "472      Motachic Stripe Print Button Dress (2 Colors)   \n",
       "\n",
       "                                              describe  \n",
       "468  Our artists are ready to design a piece of art...  \n",
       "469  In spite of all the arrogance people display t...  \n",
       "470  Have you decided on a Nursery theme?! There ar...  \n",
       "471  We Don’t Get To Choose Our Family; We Do Get T...  \n",
       "472  😍Life isn't perfect but your outfit can be.🤩💰$...  "
      ]
     },
     "execution_count": 160,
     "metadata": {},
     "output_type": "execute_result"
    }
   ],
   "source": [
    "product_sort_df.tail()"
   ]
  },
  {
   "cell_type": "code",
   "execution_count": 240,
   "metadata": {
    "scrolled": true
   },
   "outputs": [],
   "source": [
    "from nltk.tokenize import word_tokenize\n",
    "from nltk.corpus import stopwords\n",
    "from nltk.probability import FreqDist\n",
    "\n",
    "def cleantxt(raw):\n",
    "    fil = re.compile(u'[^a-zA-Z,]+', re.UNICODE)\n",
    "    res = fil.sub('', raw)\n",
    "    if len(res) == 0:\n",
    "        return \",\"\n",
    "    else:\n",
    "        return res\n",
    "\n",
    "def lemmatizer_all(word,lemmatizer):\n",
    "    low_word = word.lower()\n",
    "    # 将名词还原为单数形式\n",
    "    n_lemma = lemmatizer.lemmatize(low_word, pos='n')\n",
    "    # 将动词还原为原型形式\n",
    "    v_lemma = lemmatizer.lemmatize(n_lemma, pos='v')\n",
    "    return cleantxt(v_lemma)\n",
    "\n",
    "lemmatizer = ns.WordNetLemmatizer()\n",
    "def clean_sentence(line):\n",
    "    # cut word\n",
    "    tokenized_text=word_tokenize(line)\n",
    "\n",
    "    # normal word\n",
    "    words = [lemmatizer_all(i,lemmatizer) for i in tokenized_text]\n",
    "\n",
    "    return words\n",
    "    \n",
    "def get_hot(line):\n",
    "    # pre\n",
    "    lemmatizer = ns.WordNetLemmatizer()\n",
    "\n",
    "    # cut word\n",
    "    tokenized_text=word_tokenize(line)\n",
    "\n",
    "    # remove invalid word\n",
    "    str_puncutation = string.punctuation.replace(\"-\",\"\")\n",
    "\n",
    "    # normal word\n",
    "    words = [lemmatizer_all(i,lemmatizer) for i in tokenized_text if len(set(i) & set(str_puncutation)) == 0]\n",
    "\n",
    "    # remove stop words\n",
    "    stop_words = stopwords.words(\"english\")\n",
    "    stop_words += [\"http\",\"design\",\"print\",\"custom\",\"demand\",\"new\",\"shopify\",\"limit\",'customize',\"online\",\"personalize\",\",\"]\n",
    "    filtered_sentence = [w for w in words if not w in stop_words]\n",
    "\n",
    "\n",
    "    fdist = FreqDist(filtered_sentence)\n",
    "    tops=fdist.most_common(100)\n",
    "    res = []\n",
    "    for i in tops:\n",
    "        res.append((i[0],i[1],nltk.pos_tag([i[0]])[0][1]))\n",
    "    return res\n",
    "    \n",
    "# get sentence \n",
    "# line = \"。\".join(product_sort_df['title'].tolist()).decode(\"utf-8\")\n",
    "# get_hot(line)"
   ]
  },
  {
   "cell_type": "code",
   "execution_count": 216,
   "metadata": {
    "scrolled": true
   },
   "outputs": [],
   "source": [
    "import pandas as pd\n",
    "new_product_sort_df = pd.read_csv(\"result/product_detail_sort_0324_0327.csv\",sep=',',names=['platform','owner_name','domain','link','pixelId','like_num','share_num','comment_num','search_word','title','describe'])\n",
    "new_product_sort_df = new_product_sort_df.fillna(\"\")\n",
    "\n",
    "old_product_sort_df = pd.read_csv(\"result/product_detail_sort_70.csv\",sep=',',names=['platform','owner_name','domain','link','pixelId','like_num','share_num','comment_num','search_word','title','describe'])\n",
    "old_product_sort_df = old_product_sort_df.fillna(\"\")"
   ]
  },
  {
   "cell_type": "code",
   "execution_count": 227,
   "metadata": {},
   "outputs": [],
   "source": [
    "# get sentence \n",
    "line = \"。\".join(new_product_sort_df['title'].tolist()).decode(\"utf-8\")\n",
    "new_res = get_hot(line)\n",
    "\n",
    "line = \"。\".join(old_product_sort_df['title'].tolist()).decode(\"utf-8\")\n",
    "old_res = get_hot(line)"
   ]
  },
  {
   "cell_type": "code",
   "execution_count": 228,
   "metadata": {},
   "outputs": [
    {
     "data": {
      "text/plain": [
       "[(u'hoodie', 60, 'NN'),\n",
       " (u'shirt', 34, 'NN'),\n",
       " (u'tshirt', 33, 'NN'),\n",
       " (u'tumbler', 30, 'NN'),\n",
       " (u'top', 29, 'NN'),\n",
       " (u'love', 28, 'NN'),\n",
       " (u'mom', 27, 'NN'),\n",
       " (u'woman', 27, 'NN'),\n",
       " (u'clothe', 26, 'NN'),\n",
       " (u'day', 26, 'NN'),\n",
       " (u'gift', 25, 'NN'),\n",
       " (u'black', 23, 'JJ'),\n",
       " (u'dress', 23, 'NN'),\n",
       " (u'lace', 22, 'NN'),\n",
       " (u'dog', 21, 'NN'),\n",
       " (u'girl', 20, 'NN'),\n",
       " (u'best', 19, 'JJS'),\n",
       " (u'de', 18, 'NNS'),\n",
       " (u'tank', 18, 'NN'),\n",
       " (u'army', 17, 'NN')]"
      ]
     },
     "execution_count": 228,
     "metadata": {},
     "output_type": "execute_result"
    }
   ],
   "source": [
    "new_res[:20]"
   ]
  },
  {
   "cell_type": "code",
   "execution_count": 229,
   "metadata": {},
   "outputs": [
    {
     "data": {
      "text/plain": [
       "[(u'love', 18, 'NN'),\n",
       " (u'tshirt', 12, 'NN'),\n",
       " (u'hoodie', 11, 'NN'),\n",
       " (u'mug', 11, 'NN'),\n",
       " (u'case', 10, 'NN'),\n",
       " (u'phone', 10, 'NN'),\n",
       " (u'dress', 7, 'NN'),\n",
       " (u'clothe', 7, 'NN'),\n",
       " (u'poster', 7, 'NN'),\n",
       " (u'tee', 6, 'NN'),\n",
       " (u'treat', 6, 'NN'),\n",
       " (u'dog', 6, 'NN'),\n",
       " (u'men', 5, 'NNS'),\n",
       " (u'bed', 5, 'NN'),\n",
       " (u'coconut', 5, 'NN'),\n",
       " (u'shop', 5, 'NN'),\n",
       " (u'shirt', 5, 'NN'),\n",
       " (u'woman', 4, 'NN'),\n",
       " (u'vegan', 4, 'NN'),\n",
       " (u'shoe', 4, 'NN')]"
      ]
     },
     "execution_count": 229,
     "metadata": {},
     "output_type": "execute_result"
    }
   ],
   "source": [
    "old_res[:20]"
   ]
  },
  {
   "cell_type": "code",
   "execution_count": 230,
   "metadata": {
    "scrolled": true
   },
   "outputs": [
    {
     "name": "stdout",
     "output_type": "stream",
     "text": [
      "today loss\n",
      "(u'poster', 7, 'NN')\n",
      "(u'treat', 6, 'NN')\n",
      "(u'coconut', 5, 'NN')\n",
      "(u'vegan', 4, 'NN')\n",
      "(u'quilt', 4, 'NN')\n",
      "(u'graphic', 4, 'JJ')\n",
      "(u'quality', 4, 'NN')\n",
      "(u'co', 4, 'NN')\n",
      "(u'pet', 4, 'NN')\n",
      "(u'appetite', 3, 'NN')\n",
      "(u'casual', 3, 'JJ')\n",
      "(u'healthy', 3, 'JJ')\n",
      "(u'winter', 3, 'NN')\n",
      "(u'style', 3, 'NN')\n",
      "(u'good', 3, 'JJ')\n",
      "(u'valentine', 3, 'NN')\n",
      "(u'bra', 3, 'NN')\n",
      "(u'trudog', 3, 'NN')\n",
      "(u'kind', 3, 'NN')\n",
      "(u'lover', 3, 'NN')\n",
      "(u'nev', 3, 'NN')\n",
      "(u'bead', 3, 'NN')\n",
      "(u'pattern', 3, 'NN')\n",
      "(u'outfit', 3, 'NN')\n",
      "(u'point', 3, 'NN')\n",
      "(u'raise', 3, 'NN')\n",
      "(u'tiger', 3, 'NN')\n",
      "(u'product', 3, 'NN')\n",
      "(u'save', 3, 'VB')\n",
      "(u'world', 3, 'NN')\n",
      "(u'sneaker', 3, 'NN')\n",
      "(u'run', 3, 'VB')\n",
      "(u'year', 3, 'NN')\n",
      "(u'creeper', 3, 'NN')\n",
      "(u'apparel', 3, 'NN')\n",
      "(u'peacock', 2, 'NN')\n",
      "(u'skin', 2, 'NN')\n",
      "(u'shoebottoms', 2, 'NNS')\n",
      "(u'saree', 2, 'NN')\n",
      "(u'grape', 2, 'NN')\n",
      "(u'mefamily', 2, 'RB')\n",
      "(u'th', 2, 'NN')\n",
      "(u'cool', 2, 'NN')\n",
      "(u'sturgis', 2, 'NN')\n",
      "(u'team', 2, 'NN')\n",
      "(u'elegant', 2, 'NN')\n",
      "(u'storehtlaf', 2, 'NN')\n",
      "(u'even', 2, 'RB')\n",
      "(u'body', 2, 'NN')\n",
      "(u'boy', 2, 'NN')\n",
      "(u'shark', 2, 'NN')\n",
      "(u'iphone', 2, 'NN')\n",
      "(u'tees', 2, 'NNS')\n",
      "(u'watsonpre', 2, 'NN')\n",
      "(u'beauty', 2, 'NN')\n",
      "(u'notebook', 2, 'NN')\n",
      "(u'neck', 2, 'NN')\n",
      "(u'motorcycle', 2, 'NN')\n",
      "(u'la', 2, 'NN')\n",
      "(u'absence', 2, 'NN')\n",
      "----------\n",
      "today new\n",
      "(u'tumbler', 30, 'NN')\n",
      "(u'top', 29, 'NN')\n",
      "(u'mom', 27, 'NN')\n",
      "(u'tank', 18, 'NN')\n",
      "(u'army', 17, 'NN')\n",
      "(u'name', 17, 'NN')\n",
      "(u'set', 17, 'NN')\n",
      "(u'edition', 17, 'NN')\n",
      "(u'camo', 16, 'NN')\n",
      "(u'ring', 15, 'NN')\n",
      "(u'fashion', 14, 'NN')\n",
      "(u'premium', 14, 'NN')\n",
      "(u'short', 14, 'JJ')\n",
      "(u'fish', 14, 'NN')\n",
      "(u'x', 14, 'NN')\n",
      "(u'pink', 13, 'NN')\n",
      "(u'blue', 12, 'NN')\n",
      "(u'free', 12, 'JJ')\n",
      "(u'cat', 12, 'NN')\n",
      "(u'color', 12, 'NN')\n",
      "(u'horse', 12, 'NN')\n",
      "(u'paint', 12, 'NN')\n",
      "(u'cross', 12, 'NN')\n",
      "(u'jacket', 11, 'NN')\n",
      "(u'grandma', 11, 'NN')\n",
      "(u'leather', 11, 'NN')\n",
      "(u'legging', 11, 'VBG')\n",
      "(u'steel', 11, 'NN')\n",
      "(u'vintage', 11, 'NN')\n",
      "(u'coffee', 10, 'NN')\n",
      "(u'necklace', 10, 'NN')\n",
      "(u'red', 10, 'JJ')\n",
      "(u'stainless', 10, 'NN')\n",
      "(u'stay', 10, 'NN')\n",
      "(u'silver', 9, 'NN')\n",
      "(u'german', 9, 'JJ')\n",
      "(u'floral', 9, 'JJ')\n",
      "(u'white', 9, 'JJ')\n",
      "(u'hemp', 9, 'NN')\n",
      "(u'flag', 9, 'NN')\n",
      "(u'sleeve', 9, 'NN')\n",
      "(u'band', 8, 'NN')\n",
      "(u'wear', 8, 'NN')\n",
      "(u'sunflower', 8, 'NN')\n",
      "(u'shoulder', 8, 'NN')\n",
      "(u'police', 8, 'NNS')\n",
      "(u'gopostore', 8, 'NN')\n",
      "(u'fleece', 8, 'NN')\n",
      "(u'store', 8, 'NN')\n",
      "(u'kurta', 8, 'NN')\n",
      "(u'piece', 8, 'NN')\n",
      "(u'boot', 8, 'NN')\n",
      "(u'yellow', 7, 'NN')\n",
      "(u'distance', 7, 'NN')\n",
      "(u'metal', 7, 'NN')\n",
      "(u'make', 7, 'VB')\n",
      "(u'mother', 7, 'NN')\n",
      "(u'back', 7, 'RB')\n",
      "(u'survive', 7, 'NN')\n",
      "(u'round', 7, 'NN')\n"
     ]
    }
   ],
   "source": [
    "print \"today loss\"\n",
    "for i in old_res:\n",
    "    if i[0] not in [j[0] for j in new_res]:\n",
    "        print i\n",
    "\n",
    "print \"----------\"\n",
    "        \n",
    "print \"today new\"\n",
    "for i in new_res:\n",
    "    if i[0] not in [j[0] for j in old_res]:\n",
    "        print i"
   ]
  },
  {
   "cell_type": "markdown",
   "metadata": {},
   "source": [
    "# 倒排建立最新、最热的商品列表"
   ]
  },
  {
   "cell_type": "code",
   "execution_count": 244,
   "metadata": {},
   "outputs": [],
   "source": [
    "def get_index(raw,new_res):\n",
    "    res = []\n",
    "    line = clean_sentence(raw.decode(\"utf-8\"))\n",
    "    for i in new_res:\n",
    "        if i[0] in line:\n",
    "             res.append(i[0])\n",
    "    return \" \".join(res)\n",
    "\n",
    "new_product_sort_df['reverse_index'] = new_product_sort_df['title'].apply(lambda x:get_index(x,new_res))"
   ]
  },
  {
   "cell_type": "code",
   "execution_count": 246,
   "metadata": {},
   "outputs": [],
   "source": [
    "new_product_sort_df.to_csv(\"result_compare_with_index.csv\",index=False,encoding='utf-8')"
   ]
  },
  {
   "cell_type": "code",
   "execution_count": null,
   "metadata": {},
   "outputs": [],
   "source": []
  }
 ],
 "metadata": {
  "kernelspec": {
   "display_name": "Python 2",
   "language": "python",
   "name": "python2"
  },
  "language_info": {
   "codemirror_mode": {
    "name": "ipython",
    "version": 2
   },
   "file_extension": ".py",
   "mimetype": "text/x-python",
   "name": "python",
   "nbconvert_exporter": "python",
   "pygments_lexer": "ipython2",
   "version": "2.7.16"
  }
 },
 "nbformat": 4,
 "nbformat_minor": 2
}
