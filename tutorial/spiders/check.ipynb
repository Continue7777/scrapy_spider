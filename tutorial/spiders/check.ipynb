{
 "cells": [
  {
   "cell_type": "code",
   "execution_count": 87,
   "metadata": {},
   "outputs": [],
   "source": [
    "import pandas as pd "
   ]
  },
  {
   "cell_type": "code",
   "execution_count": 95,
   "metadata": {},
   "outputs": [],
   "source": [
    "df = pd.read_csv(\"result_detail.csv\",sep=',',names=['platform','domain','owner_name','link','pixelId','facebook_url','like_num','share_num','comment_num'])"
   ]
  },
  {
   "cell_type": "code",
   "execution_count": 96,
   "metadata": {},
   "outputs": [
    {
     "data": {
      "text/html": [
       "<div>\n",
       "<style scoped>\n",
       "    .dataframe tbody tr th:only-of-type {\n",
       "        vertical-align: middle;\n",
       "    }\n",
       "\n",
       "    .dataframe tbody tr th {\n",
       "        vertical-align: top;\n",
       "    }\n",
       "\n",
       "    .dataframe thead th {\n",
       "        text-align: right;\n",
       "    }\n",
       "</style>\n",
       "<table border=\"1\" class=\"dataframe\">\n",
       "  <thead>\n",
       "    <tr style=\"text-align: right;\">\n",
       "      <th></th>\n",
       "      <th>platform</th>\n",
       "      <th>domain</th>\n",
       "      <th>owner_name</th>\n",
       "      <th>link</th>\n",
       "      <th>pixelId</th>\n",
       "      <th>facebook_url</th>\n",
       "      <th>like_num</th>\n",
       "      <th>share_num</th>\n",
       "      <th>comment_num</th>\n",
       "    </tr>\n",
       "  </thead>\n",
       "  <tbody>\n",
       "    <tr>\n",
       "      <th>322667</th>\n",
       "      <td>WOOCOMMERCE</td>\n",
       "      <td>creestock.com</td>\n",
       "      <td>Crazy Clothes</td>\n",
       "      <td>http://bit.ly/2QjbYoz</td>\n",
       "      <td>1.025026e+15</td>\n",
       "      <td>http://dmmspy.com//external-url/?data=eyJ1cmwi...</td>\n",
       "      <td>1</td>\n",
       "      <td>0</td>\n",
       "      <td>1</td>\n",
       "    </tr>\n",
       "    <tr>\n",
       "      <th>322668</th>\n",
       "      <td>SHOPIFY</td>\n",
       "      <td>ella18.com</td>\n",
       "      <td>Ella18</td>\n",
       "      <td>http://www.ella18.com</td>\n",
       "      <td>6.066647e+14</td>\n",
       "      <td>http://dmmspy.com//external-url/?data=eyJ1cmwi...</td>\n",
       "      <td>1</td>\n",
       "      <td>0</td>\n",
       "      <td>0</td>\n",
       "    </tr>\n",
       "    <tr>\n",
       "      <th>322669</th>\n",
       "      <td>SHOPIFY</td>\n",
       "      <td>www.wonergirls.com</td>\n",
       "      <td>Wonergirlsonline</td>\n",
       "      <td>http://bit.ly/2AqRHWM</td>\n",
       "      <td>4.340288e+14</td>\n",
       "      <td>http://dmmspy.com//external-url/?data=eyJ1cmwi...</td>\n",
       "      <td>89</td>\n",
       "      <td>15</td>\n",
       "      <td>5</td>\n",
       "    </tr>\n",
       "    <tr>\n",
       "      <th>322670</th>\n",
       "      <td>VIRALSTYLE</td>\n",
       "      <td>teefine.net</td>\n",
       "      <td>Love Sport</td>\n",
       "      <td>https://rebrand.ly/byh7zf</td>\n",
       "      <td>6.246112e+14</td>\n",
       "      <td>http://dmmspy.com//external-url/?data=eyJ1cmwi...</td>\n",
       "      <td>20</td>\n",
       "      <td>1</td>\n",
       "      <td>0</td>\n",
       "    </tr>\n",
       "    <tr>\n",
       "      <th>322671</th>\n",
       "      <td>VIRALSTYLE</td>\n",
       "      <td>teefine.net</td>\n",
       "      <td>Legends Football</td>\n",
       "      <td>https://rebrand.ly/qmykx2</td>\n",
       "      <td>6.411584e+14</td>\n",
       "      <td>http://dmmspy.com//external-url/?data=eyJ1cmwi...</td>\n",
       "      <td>14</td>\n",
       "      <td>6</td>\n",
       "      <td>1</td>\n",
       "    </tr>\n",
       "  </tbody>\n",
       "</table>\n",
       "</div>"
      ],
      "text/plain": [
       "           platform              domain        owner_name  \\\n",
       "322667  WOOCOMMERCE       creestock.com     Crazy Clothes   \n",
       "322668      SHOPIFY          ella18.com            Ella18   \n",
       "322669      SHOPIFY  www.wonergirls.com  Wonergirlsonline   \n",
       "322670   VIRALSTYLE         teefine.net        Love Sport   \n",
       "322671   VIRALSTYLE         teefine.net  Legends Football   \n",
       "\n",
       "                             link       pixelId  \\\n",
       "322667      http://bit.ly/2QjbYoz  1.025026e+15   \n",
       "322668      http://www.ella18.com  6.066647e+14   \n",
       "322669      http://bit.ly/2AqRHWM  4.340288e+14   \n",
       "322670  https://rebrand.ly/byh7zf  6.246112e+14   \n",
       "322671  https://rebrand.ly/qmykx2  6.411584e+14   \n",
       "\n",
       "                                             facebook_url  like_num  \\\n",
       "322667  http://dmmspy.com//external-url/?data=eyJ1cmwi...         1   \n",
       "322668  http://dmmspy.com//external-url/?data=eyJ1cmwi...         1   \n",
       "322669  http://dmmspy.com//external-url/?data=eyJ1cmwi...        89   \n",
       "322670  http://dmmspy.com//external-url/?data=eyJ1cmwi...        20   \n",
       "322671  http://dmmspy.com//external-url/?data=eyJ1cmwi...        14   \n",
       "\n",
       "        share_num comment_num  \n",
       "322667          0           1  \n",
       "322668          0           0  \n",
       "322669         15           5  \n",
       "322670          1           0  \n",
       "322671          6           1  "
      ]
     },
     "execution_count": 96,
     "metadata": {},
     "output_type": "execute_result"
    }
   ],
   "source": [
    "df.tail()"
   ]
  },
  {
   "cell_type": "code",
   "execution_count": 97,
   "metadata": {},
   "outputs": [
    {
     "data": {
      "text/plain": [
       "20857"
      ]
     },
     "execution_count": 97,
     "metadata": {},
     "output_type": "execute_result"
    }
   ],
   "source": [
    "len(df['domain'].value_counts())"
   ]
  },
  {
   "cell_type": "code",
   "execution_count": 2,
   "metadata": {},
   "outputs": [],
   "source": [
    "import pandas as pd "
   ]
  },
  {
   "cell_type": "code",
   "execution_count": 3,
   "metadata": {},
   "outputs": [],
   "source": [
    "df = pd.read_csv(\"result/domain_detail.csv\",sep='\\t',names=['url','flag','email'])"
   ]
  },
  {
   "cell_type": "code",
   "execution_count": 4,
   "metadata": {},
   "outputs": [
    {
     "data": {
      "text/html": [
       "<div>\n",
       "<style scoped>\n",
       "    .dataframe tbody tr th:only-of-type {\n",
       "        vertical-align: middle;\n",
       "    }\n",
       "\n",
       "    .dataframe tbody tr th {\n",
       "        vertical-align: top;\n",
       "    }\n",
       "\n",
       "    .dataframe thead th {\n",
       "        text-align: right;\n",
       "    }\n",
       "</style>\n",
       "<table border=\"1\" class=\"dataframe\">\n",
       "  <thead>\n",
       "    <tr style=\"text-align: right;\">\n",
       "      <th></th>\n",
       "      <th>url</th>\n",
       "      <th>flag</th>\n",
       "      <th>email</th>\n",
       "    </tr>\n",
       "  </thead>\n",
       "  <tbody>\n",
       "    <tr>\n",
       "      <th>0</th>\n",
       "      <td>winespiritpromo.com</td>\n",
       "      <td>False</td>\n",
       "      <td>NaN</td>\n",
       "    </tr>\n",
       "    <tr>\n",
       "      <th>1</th>\n",
       "      <td>blemma.com.co</td>\n",
       "      <td>False</td>\n",
       "      <td>NaN</td>\n",
       "    </tr>\n",
       "    <tr>\n",
       "      <th>2</th>\n",
       "      <td>beautiesedge.com</td>\n",
       "      <td>False</td>\n",
       "      <td>NaN</td>\n",
       "    </tr>\n",
       "    <tr>\n",
       "      <th>3</th>\n",
       "      <td>www.borsetta-online.com</td>\n",
       "      <td>True</td>\n",
       "      <td>NaN</td>\n",
       "    </tr>\n",
       "    <tr>\n",
       "      <th>4</th>\n",
       "      <td>sambalou.be</td>\n",
       "      <td>True</td>\n",
       "      <td>NaN</td>\n",
       "    </tr>\n",
       "  </tbody>\n",
       "</table>\n",
       "</div>"
      ],
      "text/plain": [
       "                       url   flag email\n",
       "0      winespiritpromo.com  False   NaN\n",
       "1            blemma.com.co  False   NaN\n",
       "2         beautiesedge.com  False   NaN\n",
       "3  www.borsetta-online.com   True   NaN\n",
       "4              sambalou.be   True   NaN"
      ]
     },
     "execution_count": 4,
     "metadata": {},
     "output_type": "execute_result"
    }
   ],
   "source": [
    "df.head()"
   ]
  },
  {
   "cell_type": "code",
   "execution_count": 10,
   "metadata": {},
   "outputs": [],
   "source": [
    "df = df.fillna(\"none\")"
   ]
  },
  {
   "cell_type": "code",
   "execution_count": 12,
   "metadata": {},
   "outputs": [
    {
     "data": {
      "text/plain": [
       "17406"
      ]
     },
     "execution_count": 12,
     "metadata": {},
     "output_type": "execute_result"
    }
   ],
   "source": [
    "len(df)"
   ]
  },
  {
   "cell_type": "code",
   "execution_count": 133,
   "metadata": {},
   "outputs": [],
   "source": [
    "def get_emails(s):\n",
    "    emails = set(re.findall(r'[0-9a-zA-Z_]{0,13}@[0-9a-zA-Z]{1,13}\\.[0-9a-zA-Z]{1,13}',s))\n",
    "    print emails\n",
    "    avail_emails = []\n",
    "    for email in emails:\n",
    "        if \"your\" not in email and \"example\" not in email:\n",
    "            avail_emails.append(email)\n",
    "    return avail_emails"
   ]
  },
  {
   "cell_type": "code",
   "execution_count": 134,
   "metadata": {},
   "outputs": [
    {
     "name": "stdout",
     "output_type": "stream",
     "text": [
      "set([])\n"
     ]
    },
    {
     "data": {
      "text/plain": [
       "[]"
      ]
     },
     "execution_count": 134,
     "metadata": {},
     "output_type": "execute_result"
    }
   ],
   "source": [
    "get_emails(response.text)"
   ]
  },
  {
   "cell_type": "code",
   "execution_count": null,
   "metadata": {},
   "outputs": [],
   "source": []
  }
 ],
 "metadata": {
  "kernelspec": {
   "display_name": "Python 2",
   "language": "python",
   "name": "python2"
  },
  "language_info": {
   "codemirror_mode": {
    "name": "ipython",
    "version": 2
   },
   "file_extension": ".py",
   "mimetype": "text/x-python",
   "name": "python",
   "nbconvert_exporter": "python",
   "pygments_lexer": "ipython2",
   "version": "2.7.16"
  }
 },
 "nbformat": 4,
 "nbformat_minor": 2
}
