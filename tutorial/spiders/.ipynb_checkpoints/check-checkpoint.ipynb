{
 "cells": [
  {
   "cell_type": "code",
   "execution_count": 87,
   "metadata": {},
   "outputs": [],
   "source": [
    "import pandas as pd "
   ]
  },
  {
   "cell_type": "code",
   "execution_count": 95,
   "metadata": {},
   "outputs": [],
   "source": [
    "df = pd.read_csv(\"result_detail.csv\",sep=',',names=['platform','domain','owner_name','link','pixelId','facebook_url','like_num','share_num','comment_num'])"
   ]
  },
  {
   "cell_type": "code",
   "execution_count": 96,
   "metadata": {},
   "outputs": [
    {
     "data": {
      "text/html": [
       "<div>\n",
       "<style scoped>\n",
       "    .dataframe tbody tr th:only-of-type {\n",
       "        vertical-align: middle;\n",
       "    }\n",
       "\n",
       "    .dataframe tbody tr th {\n",
       "        vertical-align: top;\n",
       "    }\n",
       "\n",
       "    .dataframe thead th {\n",
       "        text-align: right;\n",
       "    }\n",
       "</style>\n",
       "<table border=\"1\" class=\"dataframe\">\n",
       "  <thead>\n",
       "    <tr style=\"text-align: right;\">\n",
       "      <th></th>\n",
       "      <th>platform</th>\n",
       "      <th>domain</th>\n",
       "      <th>owner_name</th>\n",
       "      <th>link</th>\n",
       "      <th>pixelId</th>\n",
       "      <th>facebook_url</th>\n",
       "      <th>like_num</th>\n",
       "      <th>share_num</th>\n",
       "      <th>comment_num</th>\n",
       "    </tr>\n",
       "  </thead>\n",
       "  <tbody>\n",
       "    <tr>\n",
       "      <th>322667</th>\n",
       "      <td>WOOCOMMERCE</td>\n",
       "      <td>creestock.com</td>\n",
       "      <td>Crazy Clothes</td>\n",
       "      <td>http://bit.ly/2QjbYoz</td>\n",
       "      <td>1.025026e+15</td>\n",
       "      <td>http://dmmspy.com//external-url/?data=eyJ1cmwi...</td>\n",
       "      <td>1</td>\n",
       "      <td>0</td>\n",
       "      <td>1</td>\n",
       "    </tr>\n",
       "    <tr>\n",
       "      <th>322668</th>\n",
       "      <td>SHOPIFY</td>\n",
       "      <td>ella18.com</td>\n",
       "      <td>Ella18</td>\n",
       "      <td>http://www.ella18.com</td>\n",
       "      <td>6.066647e+14</td>\n",
       "      <td>http://dmmspy.com//external-url/?data=eyJ1cmwi...</td>\n",
       "      <td>1</td>\n",
       "      <td>0</td>\n",
       "      <td>0</td>\n",
       "    </tr>\n",
       "    <tr>\n",
       "      <th>322669</th>\n",
       "      <td>SHOPIFY</td>\n",
       "      <td>www.wonergirls.com</td>\n",
       "      <td>Wonergirlsonline</td>\n",
       "      <td>http://bit.ly/2AqRHWM</td>\n",
       "      <td>4.340288e+14</td>\n",
       "      <td>http://dmmspy.com//external-url/?data=eyJ1cmwi...</td>\n",
       "      <td>89</td>\n",
       "      <td>15</td>\n",
       "      <td>5</td>\n",
       "    </tr>\n",
       "    <tr>\n",
       "      <th>322670</th>\n",
       "      <td>VIRALSTYLE</td>\n",
       "      <td>teefine.net</td>\n",
       "      <td>Love Sport</td>\n",
       "      <td>https://rebrand.ly/byh7zf</td>\n",
       "      <td>6.246112e+14</td>\n",
       "      <td>http://dmmspy.com//external-url/?data=eyJ1cmwi...</td>\n",
       "      <td>20</td>\n",
       "      <td>1</td>\n",
       "      <td>0</td>\n",
       "    </tr>\n",
       "    <tr>\n",
       "      <th>322671</th>\n",
       "      <td>VIRALSTYLE</td>\n",
       "      <td>teefine.net</td>\n",
       "      <td>Legends Football</td>\n",
       "      <td>https://rebrand.ly/qmykx2</td>\n",
       "      <td>6.411584e+14</td>\n",
       "      <td>http://dmmspy.com//external-url/?data=eyJ1cmwi...</td>\n",
       "      <td>14</td>\n",
       "      <td>6</td>\n",
       "      <td>1</td>\n",
       "    </tr>\n",
       "  </tbody>\n",
       "</table>\n",
       "</div>"
      ],
      "text/plain": [
       "           platform              domain        owner_name  \\\n",
       "322667  WOOCOMMERCE       creestock.com     Crazy Clothes   \n",
       "322668      SHOPIFY          ella18.com            Ella18   \n",
       "322669      SHOPIFY  www.wonergirls.com  Wonergirlsonline   \n",
       "322670   VIRALSTYLE         teefine.net        Love Sport   \n",
       "322671   VIRALSTYLE         teefine.net  Legends Football   \n",
       "\n",
       "                             link       pixelId  \\\n",
       "322667      http://bit.ly/2QjbYoz  1.025026e+15   \n",
       "322668      http://www.ella18.com  6.066647e+14   \n",
       "322669      http://bit.ly/2AqRHWM  4.340288e+14   \n",
       "322670  https://rebrand.ly/byh7zf  6.246112e+14   \n",
       "322671  https://rebrand.ly/qmykx2  6.411584e+14   \n",
       "\n",
       "                                             facebook_url  like_num  \\\n",
       "322667  http://dmmspy.com//external-url/?data=eyJ1cmwi...         1   \n",
       "322668  http://dmmspy.com//external-url/?data=eyJ1cmwi...         1   \n",
       "322669  http://dmmspy.com//external-url/?data=eyJ1cmwi...        89   \n",
       "322670  http://dmmspy.com//external-url/?data=eyJ1cmwi...        20   \n",
       "322671  http://dmmspy.com//external-url/?data=eyJ1cmwi...        14   \n",
       "\n",
       "        share_num comment_num  \n",
       "322667          0           1  \n",
       "322668          0           0  \n",
       "322669         15           5  \n",
       "322670          1           0  \n",
       "322671          6           1  "
      ]
     },
     "execution_count": 96,
     "metadata": {},
     "output_type": "execute_result"
    }
   ],
   "source": [
    "df.tail()"
   ]
  },
  {
   "cell_type": "code",
   "execution_count": 97,
   "metadata": {},
   "outputs": [
    {
     "data": {
      "text/plain": [
       "20857"
      ]
     },
     "execution_count": 97,
     "metadata": {},
     "output_type": "execute_result"
    }
   ],
   "source": [
    "len(df['domain'].value_counts())"
   ]
  },
  {
   "cell_type": "code",
   "execution_count": 2,
   "metadata": {},
   "outputs": [],
   "source": [
    "import pandas as pd "
   ]
  },
  {
   "cell_type": "code",
   "execution_count": 3,
   "metadata": {},
   "outputs": [],
   "source": [
    "df = pd.read_csv(\"result/domain_detail.csv\",sep='\\t',names=['url','flag','email'])"
   ]
  },
  {
   "cell_type": "code",
   "execution_count": 4,
   "metadata": {},
   "outputs": [
    {
     "data": {
      "text/html": [
       "<div>\n",
       "<style scoped>\n",
       "    .dataframe tbody tr th:only-of-type {\n",
       "        vertical-align: middle;\n",
       "    }\n",
       "\n",
       "    .dataframe tbody tr th {\n",
       "        vertical-align: top;\n",
       "    }\n",
       "\n",
       "    .dataframe thead th {\n",
       "        text-align: right;\n",
       "    }\n",
       "</style>\n",
       "<table border=\"1\" class=\"dataframe\">\n",
       "  <thead>\n",
       "    <tr style=\"text-align: right;\">\n",
       "      <th></th>\n",
       "      <th>url</th>\n",
       "      <th>flag</th>\n",
       "      <th>email</th>\n",
       "    </tr>\n",
       "  </thead>\n",
       "  <tbody>\n",
       "    <tr>\n",
       "      <th>0</th>\n",
       "      <td>winespiritpromo.com</td>\n",
       "      <td>False</td>\n",
       "      <td>NaN</td>\n",
       "    </tr>\n",
       "    <tr>\n",
       "      <th>1</th>\n",
       "      <td>blemma.com.co</td>\n",
       "      <td>False</td>\n",
       "      <td>NaN</td>\n",
       "    </tr>\n",
       "    <tr>\n",
       "      <th>2</th>\n",
       "      <td>beautiesedge.com</td>\n",
       "      <td>False</td>\n",
       "      <td>NaN</td>\n",
       "    </tr>\n",
       "    <tr>\n",
       "      <th>3</th>\n",
       "      <td>www.borsetta-online.com</td>\n",
       "      <td>True</td>\n",
       "      <td>NaN</td>\n",
       "    </tr>\n",
       "    <tr>\n",
       "      <th>4</th>\n",
       "      <td>sambalou.be</td>\n",
       "      <td>True</td>\n",
       "      <td>NaN</td>\n",
       "    </tr>\n",
       "  </tbody>\n",
       "</table>\n",
       "</div>"
      ],
      "text/plain": [
       "                       url   flag email\n",
       "0      winespiritpromo.com  False   NaN\n",
       "1            blemma.com.co  False   NaN\n",
       "2         beautiesedge.com  False   NaN\n",
       "3  www.borsetta-online.com   True   NaN\n",
       "4              sambalou.be   True   NaN"
      ]
     },
     "execution_count": 4,
     "metadata": {},
     "output_type": "execute_result"
    }
   ],
   "source": [
    "df.head()"
   ]
  },
  {
   "cell_type": "code",
   "execution_count": 10,
   "metadata": {},
   "outputs": [],
   "source": [
    "df = df.fillna(\"none\")"
   ]
  },
  {
   "cell_type": "code",
   "execution_count": 12,
   "metadata": {},
   "outputs": [
    {
     "data": {
      "text/plain": [
       "17406"
      ]
     },
     "execution_count": 12,
     "metadata": {},
     "output_type": "execute_result"
    }
   ],
   "source": [
    "len(df)"
   ]
  },
  {
   "cell_type": "code",
   "execution_count": 133,
   "metadata": {},
   "outputs": [],
   "source": [
    "def get_emails(s):\n",
    "    emails = set(re.findall(r'[0-9a-zA-Z_]{0,13}@[0-9a-zA-Z]{1,13}\\.[0-9a-zA-Z]{1,13}',s))\n",
    "    print emails\n",
    "    avail_emails = []\n",
    "    for email in emails:\n",
    "        if \"your\" not in email and \"example\" not in email:\n",
    "            avail_emails.append(email)\n",
    "    return avail_emails"
   ]
  },
  {
   "cell_type": "code",
   "execution_count": 134,
   "metadata": {},
   "outputs": [
    {
     "name": "stdout",
     "output_type": "stream",
     "text": [
      "set([])\n"
     ]
    },
    {
     "data": {
      "text/plain": [
       "[]"
      ]
     },
     "execution_count": 134,
     "metadata": {},
     "output_type": "execute_result"
    }
   ],
   "source": [
    "get_emails(response.text)"
   ]
  },
  {
   "cell_type": "code",
   "execution_count": null,
   "metadata": {},
   "outputs": [],
   "source": [
    "product_detail_file = '/root/code/scrapy_project/tutorial/spiders/result/product_detail'\n",
    "f = open(product_detail_file, 'a')"
   ]
  },
  {
   "cell_type": "code",
   "execution_count": 25,
   "metadata": {},
   "outputs": [],
   "source": [
    "import requests\n",
    "\n",
    "cookies = {\n",
    "    '_ga': 'GA1.2.1328724326.1583206558',\n",
    "    '_fbp': 'fb.1.1583209030738.1211827902',\n",
    "    '_gid': 'GA1.2.1945430352.1583999109',\n",
    "    'messages': '9b48edf1e146f010db726ae58f997e9ac8611c44$[[\\\\\"__json_message\\\\\"\\\\0540\\\\05440\\\\054\\\\\"Wrong state parameter given.\\\\\"\\\\054\\\\\"social-auth google-oauth2\\\\\"]]',\n",
    "    'csrftoken': 'N2VE1t8hkEXZTbnkfbd1ion6CWVtn28iB1eGIudUjCWHjc9BffbQdy7E2qlXI64X',\n",
    "    'sessionid': 'c5o0gws9ytxyoog1403pnw7i16hfcfpg',\n",
    "    'device_session': 'eyJwYXNzY29kZSI6Nzc4NDF9:1jDh6U:M4Op1O-xoExfWc31bbyXDdUxSBw',\n",
    "    '_gat_pageTracker': '1',\n",
    "}\n",
    "\n",
    "headers = {\n",
    "        'Connection': 'keep-alive',\n",
    "        'Upgrade-Insecure-Requests': '1',\n",
    "        'User-Agent': 'Mozilla/5.0 (Windows NT 10.0; Win64; x64) AppleWebKit/537.36 (KHTML, like Gecko) Chrome/80.0.3987.132 Safari/537.36',\n",
    "        'Sec-Fetch-Dest': 'document',\n",
    "        'Accept': 'text/html,application/xhtml+xml,application/xml;q=0.9,image/webp,image/apng,*/*;q=0.8,application/signed-exchange;v=b3;q=0.9',\n",
    "        'Sec-Fetch-Site': 'same-origin',\n",
    "        'Sec-Fetch-Mode': 'navigate',\n",
    "        'Sec-Fetch-User': '?1',\n",
    "        'Referer': 'https://dmmspy.com/v2/dynamic-grid?search_mode=',\n",
    "        'Accept-Language': 'zh-CN,zh;q=0.9'\n",
    "    }\n",
    "\n",
    "params = (\n",
    "    ('search_mode', ''),\n",
    "    ('q', 't-shirt 2020 custom'),\n",
    "    ('likes', ''),\n",
    "    ('comments', ''),\n",
    "    ('post_time', 'September 18, 2019 - March 16, 2020'),\n",
    "    ('sort', ''),\n",
    ")\n",
    "\n",
    "url = 'https://dmmspy.com/v2/dynamic-grid?page=24&search_mode=&q=t-shirt+2020+custom&likes=&comments=&post_time=September+18%2C+2019+-+March+16%2C+2020&sort='\n",
    "headers['Referer'] = url\n",
    "response = requests.get(url, headers=headers, params=params, cookies=cookies)\n",
    "\n",
    "#NB. Original query string below. It seems impossible to parse and\n",
    "#reproduce query strings 100% accurately so the one below is given\n",
    "#in case the reproduced version is not \"correct\".\n",
    "# response = requests.get('https://dmmspy.com/v2/dynamic-grid?search_mode=&q=t-shirt+2020+custom&likes=&comments=&post_time=September+18%2C+2019+-+March+16%2C+2020&sort=', headers=headers, cookies=cookies)\n"
   ]
  },
  {
   "cell_type": "code",
   "execution_count": 26,
   "metadata": {},
   "outputs": [
    {
     "data": {
      "text/plain": [
       "u'\\n\\n\\n\\n\\n<html>\\n    <head>\\n        <link rel=\"icon\" href=\"/static/landing/dmm/images/favicons/favicon.ico\">\\n        <title>DMM SPY Tools </title>\\n        \\n\\n<!-- Google Tag Manager -->\\n<script>(function(w,d,s,l,i){w[l]=w[l]||[];w[l].push({\\'gtm.start\\':\\nnew Date().getTime(),event:\\'gtm.js\\'});var f=d.getElementsByTagName(s)[0],\\nj=d.createElement(s),dl=l!=\\'dataLayer\\'?\\'&l=\\'+l:\\'\\';j.async=true;j.src=\\n\\'https://www.googletagmanager.com/gtm.js?id=\\'+i+dl;f.parentNode.insertBefore(j,f);\\n})(window,document,\\'script\\',\\'dataLayer\\',\\'GTM-K629XQH\\');</script>\\n<!-- End Google Tag Manager -->\\n\\n\\n<link rel=\"stylesheet\" href=\"https://maxcdn.bootstrapcdn.com/bootstrap/3.2.0/css/bootstrap.min.css\">\\n\\n\\n\\n<link rel=\"stylesheet\" href=\"/static/lib/font-awesome/css/font-awesome.min.css\">\\n<link href=\"https://cdnjs.cloudflare.com/ajax/libs/font-awesome/5.8.0/css/all.min.css\" rel=\"stylesheet\"/>\\n<link href=\"https://cdnjs.cloudflare.com/ajax/libs/x-editable/1.5.0/bootstrap3-editable/css/bootstrap-editable.css\" rel=\"stylesheet\"/>\\n<link href=\"https://cdnjs.cloudflare.com/ajax/libs/select2/3.4.8/select2.min.css\" rel=\"stylesheet\" />\\n<link href=\"https://cdnjs.cloudflare.com/ajax/libs/select2-bootstrap-css/1.4.6/select2-bootstrap.min.css\" rel=\"stylesheet\" />\\n<link href=\"https://cdnjs.cloudflare.com/ajax/libs/jquery-jsonview/1.2.3/jquery.jsonview.min.css\" rel=\"stylesheet\" />\\n<link href=\"https://fonts.googleapis.com/css?family=Racing+Sans+One\" rel=\"stylesheet\">\\n<link href=\"https://fonts.googleapis.com/icon?family=Material+Icons\" rel=\"stylesheet\">\\n<link rel=\"stylesheet\" href=\"/static/site.css?v=20191028\">\\n\\n\\n<script src=\"https://cdnjs.cloudflare.com/ajax/libs/jquery/3.2.1/jquery.min.js\"></script>\\n<script src=\"/static/lib/bootstrap/dist/js/bootstrap.min.js\"></script>\\n\\n\\n\\n\\n\\n\\n\\n\\n\\n\\n\\n\\n<script src=\"/static/lib/bootstrap-confirmation2/bootstrap-confirmation.min.js\"></script>\\n<script src=\"/static/lib/bootstrap3-typeahead/bootstrap3-typeahead.min.js\"></script>\\n<script src=\"/static/lib/bootstrap3-dialog/dist/js/bootstrap-dialog.min.js\"></script>\\n\\n<script src=\"https://cdnjs.cloudflare.com/ajax/libs/moment.js/2.18.1/moment.min.js\"></script>\\n\\n<link href=\"//cdnjs.cloudflare.com/ajax/libs/bootstrap-datetimepicker/4.17.47/css/bootstrap-datetimepicker.css\" type=\"text/css\" media=\"all\" rel=\"stylesheet\" />\\n<script type=\"text/javascript\" src=\"//cdnjs.cloudflare.com/ajax/libs/bootstrap-datetimepicker/4.17.47/js/bootstrap-datetimepicker.min.js\"></script>\\n\\n<link rel=\"stylesheet\" href=\"/static/bootstrap_datepicker_plus/css/datepicker-widget.css\">\\n<script src=\"/static/bootstrap_datepicker_plus/js/datepicker-widget.js\"></script>\\n\\n<!--CDN-->\\n<script src=\"https://cdnjs.cloudflare.com/ajax/libs/x-editable/1.5.0/bootstrap3-editable/js/bootstrap-editable.min.js\"></script>\\n<script src=\\'https://cdnjs.cloudflare.com/ajax/libs/tinymce/4.7.13/tinymce.min.js\\'></script>\\n<script src=\\'https://blueimp.github.io/JavaScript-Templates/js/tmpl.min.js\\'></script>\\n<script src=\\'https://ajax.microsoft.com/ajax/jquery.templates/beta1/jquery.tmpl.min.js\\'></script>\\n<script src=\"https://cdnjs.cloudflare.com/ajax/libs/select2/3.4.8/select2.min.js\"></script>\\n<script src=\"https://cdnjs.cloudflare.com/ajax/libs/jquery-jsonview/1.2.3/jquery.jsonview.min.js\"></script>\\n<script src=\\'https://www.google.com/recaptcha/api.js?render=6LcS1XgUAAAAAJ8kh5GH8mQUTqJrmLBK0gbFReGP\\'></script>\\n\\n<link rel=\"stylesheet\" type=\"text/css\" href=\"https://rawgit.com/notryanb/highcharts_date_range_grouping/config-date-formats/dist/highcharts_date_range_grouping.css\">\\n<script src=\"https://code.highcharts.com/highcharts.js\"></script>\\n<script src=\"https://cdn.rawgit.com/notryanb/highcharts_date_range_grouping/config-date-formats/dist/highcharts_date_range_grouping.min.js\"></script>\\n\\n<script type=\"text/javascript\" src=\"https://cdn.jsdelivr.net/npm/daterangepicker/daterangepicker.min.js\"></script>\\n<link rel=\"stylesheet\" type=\"text/css\" href=\"https://cdn.jsdelivr.net/npm/daterangepicker/daterangepicker.css\" />\\n\\n<script>\\n    var defaultBrokenImage = \"/static/img/default-tshirt-640.png\";\\n    function brokenImage(img) {\\n        img.setAttribute(\"data-broken-image\", img.src);\\n\\n        var alternatives = [\"src2\", \"src3\"];\\n        for(var i=0; i<alternatives.length; i++){\\n            var src = img.getAttribute(alternatives[i]);\\n            if(src) {\\n                img.setAttribute(alternatives[i], \"\");\\n                img.src = src;\\n                return;\\n            }\\n        }\\n\\n        img.src = defaultBrokenImage;\\n    }\\n\\n    function lazyLoadImage(img) {\\n        var images = [];\\n        if(img.getAttribute(\"lazy-load\") === \"loaded\"){\\n            return;\\n        }\\n        img.setAttribute(\"lazy-load\", \"loaded\");\\n\\n        for(var i=1; i<=10; i++){\\n            var srcXxName = \"src\" + i;\\n            var src = img.getAttribute(srcXxName);\\n            if(src) {\\n                images.push({\\n                    src: src,\\n                    background: img.getAttribute(srcXxName + \"-background\") || \"false\"\\n                });\\n            }\\n        }\\n\\n        function loadImage(item) {\\n            if(item.background !== \"true\") {\\n                var loading = new Image();\\n                loading.onload = function () {\\n                    if (this.src.indexOf(\"fbcdn.net/safe_image.php\") >= 0 && this.width == 1 && this.height == 1){\\n                        trigger();\\n                    } else {\\n                        img.src = this.src;\\n                    }\\n                };\\n                loading.onerror = function () {\\n                    trigger();\\n                };\\n                loading.src = item.src;\\n            } else {\\n                var loading = new Image();\\n                loading.src = item.src;\\n                trigger();\\n            }\\n        }\\n\\n        function trigger(){\\n            var item = images.shift();\\n            if(item) {\\n                loadImage(item);\\n            } else {\\n                img.src = defaultBrokenImage;\\n            }\\n        }\\n\\n        trigger();\\n    }\\n\\n    function linkImageHref(linkElement) {\\n        var imageElement = linkElement.querySelector(\"img\");\\n        if(imageElement && imageElement.src) {\\n            var src = imageElement.src;\\n            if(src.indexOf(\"http\") == 0) {\\n                src = \"/mix/download?url=\" + encodeURIComponent(src);\\n            }\\n            linkElement.href = src;\\n        }\\n    }\\n\\n    function optimizeSunfrogImage(img){\\n        if(img.src.indexOf(\"images.sunfrogshirts.com\")< 0){\\n            return;\\n        }\\n        img.src = img.src.replace(/\\\\/(\\\\d+[^/]+)$/g, \"/m_$1\");\\n    }\\n</script>\\n\\n<script>\\n    $(function(){\\n        $(\"form select#id_platform\").select2();\\n    });\\n</script>\\n\\n<style>\\n    form.form-main-search select#id_platform {\\n        display: none;\\n    }\\n    /*******************************/\\n    .new-feature{\\n        width: 12px;\\n        height: 12px;\\n        display: inline-block;\\n    }\\n    .new-feature::before {\\n        width: 12px;\\n        height: 12px;\\n        display: inline-block;\\n        background-image: url(/static/img/new_circle_pink.svg);\\n        background-size:     cover;\\n        background-repeat:   no-repeat;\\n        background-position: center center;\\n        overflow: visible;\\n        content: \" \"\\n    }\\n    /*******************************/\\n    .grecaptcha-badge {\\n        display: none !important;\\n    }\\n</style>\\n\\n<script type=\"text/javascript\">\\n    $(function() {\\n        $(\\'#id_post_time,#id_dfla_time_range\\').each(function () {\\n             var $dateRangeInput = $(this);\\n\\n            function onChanged(start, end) {\\n                $dateRangeInput.val(start.format(\\'MMMM D, YYYY\\') + \\' - \\' + end.format(\\'MMMM D, YYYY\\'));\\n            }\\n\\n            $dateRangeInput.daterangepicker({\\n                minDate: moment().subtract(3*365, \\'days\\'),\\n                maxDate: moment().add(2, \\'days\\'),\\n                autoUpdateInput: false,\\n                locale: {\\n                    format: \\'MMMM D, YYYY\\',\\n                    cancelLabel: \\'Clear\\'\\n                },\\n                ranges: {\\n                   \\'Last 24h\\': [moment().subtract(1, \\'days\\')],\\n                   \\'Last 3 Days\\': [moment().subtract(3, \\'days\\'), moment()],\\n                   \\'Last 7 Days\\': [moment().subtract(7, \\'days\\'), moment()],\\n                   \\'Last 15 Days\\': [moment().subtract(15, \\'days\\'), moment()],\\n                   \\'Last Month\\': [moment().subtract(30, \\'days\\'), moment()],\\n                   \\'Last 3 Months\\': [moment().subtract(90, \\'days\\'), moment()],\\n                   \\'Last 6 Months\\': [moment().subtract(180, \\'days\\'), moment()],\\n                   \\'Last Year\\': [moment().subtract(365, \\'days\\'), moment()]\\n                }\\n            }, onChanged).on(\\'cancel.daterangepicker\\', function(ev, picker) {\\n                 $dateRangeInput.val(\\'\\');\\n            });\\n        });\\n    });\\n\\n    $(document).on(\"mouseover\", \".spy3-listen-mouseover\", function () {\\n        if (!$(this).hasClass(\"spy3-mouseover\")){\\n            $(this).addClass(\"spy3-mouseover\");\\n        }\\n    });\\n\\n    $(document).on(\"mouseleave\", \".spy3-listen-mouseover\", function () {\\n        if ($(this).hasClass(\"spy3-mouseover\")){\\n            $(this).removeClass(\"spy3-mouseover\");\\n        }\\n    });\\n</script>\\n\\n<script>\\n    $(function () {\\n        if(location.search.indexOf(\"page=\") < 0){\\n            localStorage.setItem(location.pathname, JSON.stringify({}));\\n        }\\n\\n        $(\".mass-edit-select-all\").change(function () {\\n            var $this = $(this);\\n            if($this.is(\":checked\")) {\\n                $(\".mass-edit-item-checkbox\").prop(\"checked\", true).change();\\n            } else {\\n                $(\".mass-edit-item-checkbox\").prop(\"checked\", false).change();\\n            }\\n        });\\n\\n        $(\".mass-edit-item-checkbox\").change(function () {\\n            var db = localStorage.getItem(location.pathname);\\n            if(db) {\\n                db = JSON.parse(db);\\n            } else {\\n                db = {};\\n            }\\n            var $this = $(this);\\n            var value = $this.val();\\n            var ids = db[\"ids\"] || [];\\n            if($this.is(\":checked\")) {\\n                if (ids.indexOf(value) == -1) {\\n                    ids.push(value);\\n                }\\n            } else {\\n                if (ids.indexOf(value) >= 0) {\\n                    ids.splice(ids.indexOf(value), 1);\\n                }\\n            }\\n            db[\"ids\"] = ids;\\n            localStorage.setItem(location.pathname, JSON.stringify(db));\\n            $(\".mass-edit-selected-count\").text(ids.length);\\n        }).each(function () {\\n            var db = localStorage.getItem(location.pathname);\\n            if(db) {\\n                db = JSON.parse(db);\\n            } else {\\n                db = {};\\n            }\\n            var $this = $(this);\\n            var value = $this.val();\\n            var ids = db[\"ids\"] || [];\\n            if (ids.indexOf(value) >= 0) {\\n                $this.prop(\"checked\", true);\\n            }\\n            $(\".mass-edit-selected-count\").text(ids.length);\\n        });\\n    });\\n</script>\\n        \\n    <style>\\n        form input.form-control {\\n            width: 100%;\\n            max-width: 100%;\\n        }\\n    </style>\\n\\n        <style>\\n            .navbar-brand > img {\\n                position: relative;\\n                top: -5px;\\n                height: 30px;\\n                max-height: 30px;\\n            }\\n            .navbar-right .navbar-brand > img {\\n                top: -2px;\\n                height: 24px;\\n            }\\n        </style>\\n    </head>\\n    <body>\\n    <!-- Google Tag Manager (noscript) -->\\n    <noscript><iframe src=\"https://www.googletagmanager.com/ns.html?id=GTM-K629XQH\"\\n    height=\"0\" width=\"0\" style=\"display:none;visibility:hidden\"></iframe></noscript>\\n    <!-- End Google Tag Manager (noscript) -->\\n\\n    \\n\\n    \\n    <nav class=\"navbar navbar-default\">\\n        <div class=\"container-fluid\">\\n            <div class=\"navbar-header\">\\n                <a class=\"navbar-brand\" href=\"/v2/dynamic-grid\">\\n                   <img alt=\"Logo\" src=\"/static/landing/dmm/images/landing/logo.png\"/>\\n                </a>\\n\\n                <button type=\"button\" class=\"navbar-toggle collapsed\" data-toggle=\"collapse\" data-target=\"#navbar\" aria-expanded=\"false\" aria-controls=\"navbar\">\\n                   <span class=\"sr-only\">Toggle navigation</span>\\n                   <span class=\"icon-bar\"></span>\\n                   <span class=\"icon-bar\"></span>\\n                   <span class=\"icon-bar\"></span>\\n                </button>\\n            </div>\\n            \\n\\n\\n<div id=\"navbar\" class=\"navbar-collapse collapse\">\\n   \\n\\n\\n<ul class=\"nav navbar-nav\">\\n    \\n\\n\\n\\n        <li class=\"dropdown\">\\n            <a href=\"#\" class=\"dropdown-toggle\" data-toggle=\"dropdown\">\\n                <i class=\"fa fa-user-secret\" aria-hidden=\"true\"></i>\\n                SPY ADS\\n                <span class=\"caret\"></span>\\n            </a>\\n            <ul class=\"dropdown-menu\">\\n                <li><a href=\"/v2/dynamic-grid\">Search Ads (Dynamic Load)</a></li>\\n                <li><a href=\"/v2/es-grid\">Search Ads (Paging)</a></li>\\n                \\n\\n            </ul>\\n        </li>\\n\\n\\n      <li>\\n          <a href=\"/v2/bookmark-list?sort=-update_date\">\\n              <i class=\"fas fa-bookmark\"></i>\\n              Bookmarks\\n          </a>\\n      </li>\\n\\n      <li>\\n          <a href=\"/v2/favorite-group-grid/?sort=-update_date\">\\n              <i class=\"fa fa-star\"></i>\\n              Favorites\\n          </a>\\n      </li>\\n\\n\\n\\n\\n\\n\\n\\n\\n\\n\\n\\n\\n\\n\\n\\n\\n\\n\\n\\n\\n\\n\\n\\n\\n\\n\\n\\n\\n\\n\\n\\n\\n </ul>\\n\\n   <ul class=\"nav navbar-nav navbar-right\">\\n        <li>\\n            <a target=\"_blank\" title=\"Spy Merch Tools\" class=\"navbar-brand\" href=\"http://dmmmerch.com/\">\\n               <img alt=\"Logo\" src=\"/static/landing/dmmmerch/images/logo-big.png\">\\n            </a>\\n        </li>\\n        \\n            <li><a href=\"/login/\"><span class=\"glyphicon glyphicon-log-in\"></span> Login</a></li>\\n        \\n   </ul>\\n</div>\\n        </div>\\n    </nav>\\n    \\n\\n\\n    <div class=\"container-fluid content\" style=\"min-height: 700px\">\\n        <div class=\"row\">\\n            <div class=\"col-md-12\">\\n            \\n<div class=\"row\">\\n    <div class=\"center-block\" style=\"width: 400px;\">\\n        <div class=\"panel panel-info\">\\n            <div class=\"panel-heading\" style=\"text-align: center\">\\n                <strong>Login</strong>\\n            </div>\\n            <div class=\"panel-body\" style=\"min-height: 150px\">\\n                \\n                    <form method=\"post\">\\n                        <input type=\\'hidden\\' name=\\'csrfmiddlewaretoken\\' value=\\'13IeV2J50lUIRG7Io77iLs1PHIGFFy6iP21gC3OIZjTqhHTZob57GCLn7c690C2X\\' />\\n                        <div class=\"form-group\"><label class=\"control-label\" for=\"id_username\">Username</label><input type=\"text\" name=\"username\" title=\"\" required id=\"id_username\" maxlength=\"254\" autofocus placeholder=\"Username\" class=\"form-control\" /></div>\\n<div class=\"form-group\"><label class=\"control-label\" for=\"id_password\">Password</label><input type=\"password\" name=\"password\" title=\"\" required id=\"id_password\" placeholder=\"Password\" class=\"form-control\" /></div>\\n                        <button type=\"submit\" class=\"btn btn-primary\">\\n                            <span class=\"glyphicon glyphicon-log-in\"></span>\\n                            Login\\n                        </button>\\n                        <a class=\"pull-right\" href=\"/password-reset/\">Forgot password?</a>\\n                    </form>\\n\\n                    <hr/>\\n\\n                    \\n                    \\n                    <div class=\"form-group\">\\n                        <a style=\"width: 100%\" href=\"/oauth/login/facebook/?next=/webapp/\" class=\"btn btn-primary\">\\n                            <i class=\"fab fa-facebook\" aria-hidden=\"true\"></i>\\n                            Login with your Facebook\\n                        </a>\\n                    </div>\\n                    \\n\\n                    <div class=\"form-group\">\\n                        <a style=\"width: 100%\" href=\"/oauth/login/google-oauth2/?next=/webapp/\" class=\"btn btn-danger\">\\n                            <i class=\"fab fa-google\" aria-hidden=\"true\"></i>\\n                            Login with your Google\\n                        </a>\\n                    </div>\\n                \\n            </div>\\n            <div class=\"panel-footer\" style=\"min-height: 50px\">\\n                <div class=\"pull-right\">\\n                     <a href=\"/webapp/goto/facebook-group\" class=\"btn btn-info btn-xs\">\\n                        <i class=\"fab fa-facebook\" aria-hidden=\"true\"></i>\\n                        Join Group\\n                    </a>\\n                </div>\\n            </div>\\n        </div>\\n    </div>\\n</div>\\n\\n            </div>\\n        </div>\\n        <div class=\"clearfix\"></div>\\n    </div>\\n\\n    <div id=\"footer\" style=\"padding-top:1em; background:#161616;position: relative;bottom: 0;width: 100%;\">\\n        <div class=\"container\">\\n            <p class=\"text-muted small\">\\xa9 COPYRIGHT 2017</p>\\n        </div>\\n    </div>\\n\\n    <div class=\"alert-list\" id=\"alert-list\"></div>\\n\\n    <div style=\"position: fixed; bottom: 5px; right: 50px; z-index: 9999;\">\\n        <div class=\"btn-group btn-group-sm\">\\n            <a href=\"/webapp/goto/facebook-group\" class=\"btn btn-info\">\\n                <i class=\"fab fa-facebook\" aria-hidden=\"true\"></i>\\n                Group\\n            </a>\\n\\n\\n\\n\\n            <a style=\"width: 69px\" href=\"javascript:$(document).scrollTop(0);\" class=\"btn btn-warning\">\\n                <i  style=\"line-height: 18px\" class=\"fa fa-arrow-circle-up\" aria-hidden=\"true\"></i>\\n            </a>\\n        </div>\\n    </div>\\n\\n     <div id=\"modal-xl\" class=\"modal fade\" tabindex=\"-1\" role=\"dialog\">\\n  <div class=\"modal-dialog modal-xl\" role=\"document\">\\n    <div class=\"modal-content\">\\n\\n    </div>\\n  </div>\\n</div>\\n\\n <div id=\"modal-lg\" class=\"modal fade\" tabindex=\"-1\" role=\"dialog\">\\n  <div class=\"modal-dialog modal-lg\" role=\"document\">\\n    <div class=\"modal-content\">\\n\\n    </div>\\n  </div>\\n</div>\\n\\n <div id=\"modal\" class=\"modal fade\" tabindex=\"-1\" role=\"dialog\">\\n  <div class=\"modal-dialog modal-md\" role=\"document\">\\n    <div class=\"modal-content\">\\n\\n    </div>\\n  </div>\\n</div>\\n\\n<div id=\"modal-sm\" class=\"modal fade\" tabindex=\"-1\" role=\"dialog\">\\n  <div class=\"modal-dialog modal-sm\" role=\"document\">\\n    <div class=\"modal-content\">\\n\\n    </div>\\n  </div>\\n</div>\\n    \\n\\n<script src=\"/static/bundles.js?v=20191028\"></script>\\n<script src=\"/static/clickclick.js?v=20191028\"></script>\\n<script src=\"/static/show-alert.js?v=20191028\"></script>\\n<script src=\"/static/chunk-file.js?v=20191028\"></script>\\n<script src=\"/static/datasource.js?v=20191028\"></script>\\n    \\n\\n<!-- Spy3 -->\\n<script>\\n  (function(i,s,o,g,r,a,m){i[\\'GoogleAnalyticsObject\\']=r;i[r]=i[r]||function(){\\n  (i[r].q=i[r].q||[]).push(arguments)},i[r].l=1*new Date();a=s.createElement(o),\\n  m=s.getElementsByTagName(o)[0];a.async=1;a.src=g;m.parentNode.insertBefore(a,m)\\n  })(window,document,\\'script\\',\\'https://www.google-analytics.com/analytics.js\\',\\'ga\\');\\n\\n  ga(\\'create\\', \\'UA-96339251-1\\', \\'auto\\');\\n  ga(\\'create\\', \\'UA-96339251-3\\', \\'auto\\', {\\'name\\': \\'pageTracker\\'});\\n  ga(\\'set\\', \\'forceSSL\\', true);\\n\\n  \\n\\n  ga(\\'send\\', \\'pageview\\');\\n  ga(\\'pageTracker.send\\', \\'pageview\\');\\n\\n  setInterval(function () {\\n      ga(\\'pageTracker.send\\', \\'event\\', \\'ping\\', \\'ping\\');\\n  }, 60000);\\n</script>\\n\\n<script>\\n    $(function(){\\n        var _handlers = {};\\n        $(document).on(\"keyup\", \"input[type=\\'search\\'],input[name=\\'description\\'],input[name=\\'name\\']\", function(){\\n            var _this = this;\\n            var handler = _handlers[_this];\\n            if(handler) {\\n                clearTimeout(handler);\\n            }\\n            _handlers[_this] = setTimeout(function(){\\n                _handlers[_this] = undefined;\\n                var query = $(_this).val();\\n                var name = $(_this).attr(\"name\");\\n                ga(\\'send\\', \\'event\\', \\'Syp3:\\'+location.pathname, \\'search\\', name, query);\\n            }, 1500);\\n        });\\n\\n        //ga(\\'send\\', \\'event\\', [eventCategory], [eventAction], [eventLabel], [eventValue], [fieldsObject]);\\n        //https://developers.google.com/analytics/devguides/collection/analyticsjs/events\\n        var title = $(\"html>head>title\").text().trim();\\n        ga(\\'send\\', \\'event\\', \\'Syp3\\', \\'pageLoad\\', title);\\n    });\\n</script>\\n\\n<!-- Facebook Pixel Code -->\\n<script>\\n  !function(f,b,e,v,n,t,s)\\n  {if(f.fbq)return;n=f.fbq=function(){n.callMethod?\\n  n.callMethod.apply(n,arguments):n.queue.push(arguments)};\\n  if(!f._fbq)f._fbq=n;n.push=n;n.loaded=!0;n.version=\\'2.0\\';\\n  n.queue=[];t=b.createElement(e);t.async=!0;\\n  t.src=v;s=b.getElementsByTagName(e)[0];\\n  s.parentNode.insertBefore(t,s)}(window, document,\\'script\\',\\n  \\'https://connect.facebook.net/en_US/fbevents.js\\');\\n  fbq(\\'init\\', \\'250407548819367\\');\\n  fbq(\\'track\\', \\'PageView\\');\\n</script>\\n<noscript><img height=\"1\" width=\"1\" style=\"display:none\"\\n  src=\"https://www.facebook.com/tr?id=250407548819367&ev=PageView&noscript=1\"\\n/></noscript>\\n<!-- End Facebook Pixel Code -->\\n\\n\\n    <!-- Load Facebook SDK for JavaScript -->\\n    <div id=\"fb-root\"></div>\\n    <script>\\n      window.fbAsyncInit = function() {\\n        FB.init({\\n          xfbml            : true,\\n          version          : \\'v3.2\\',\\n            greeting_dialog_display: \\'hide\\'\\n        });\\n      };\\n\\n      (function(d, s, id) {\\n      var js, fjs = d.getElementsByTagName(s)[0];\\n      if (d.getElementById(id)) return;\\n      js = d.createElement(s); js.id = id;\\n      js.src = \\'https://connect.facebook.net/en_US/sdk/xfbml.customerchat.js\\';\\n      fjs.parentNode.insertBefore(js, fjs);\\n    }(document, \\'script\\', \\'facebook-jssdk\\'));</script>\\n\\n    <!-- Your customer chat code -->\\n    <div class=\"fb-customerchat\"\\n      attribution=setup_tool\\n      page_id=\"2296929960579575\"\\n         greeting_dialog_display=\"hide\">\\n    </div>\\n\\n    \\n    \\n    </body>\\n</html>'"
      ]
     },
     "execution_count": 26,
     "metadata": {},
     "output_type": "execute_result"
    }
   ],
   "source": [
    "response.text"
   ]
  },
  {
   "cell_type": "code",
   "execution_count": 12,
   "metadata": {},
   "outputs": [],
   "source": [
    "from bs4 import BeautifulSoup"
   ]
  },
  {
   "cell_type": "code",
   "execution_count": 27,
   "metadata": {},
   "outputs": [],
   "source": [
    "soup = BeautifulSoup(response.text)\n",
    "div_captions = soup.find_all(name='div',class_=\"caption\")"
   ]
  },
  {
   "cell_type": "code",
   "execution_count": 28,
   "metadata": {},
   "outputs": [
    {
     "data": {
      "text/plain": [
       "[]"
      ]
     },
     "execution_count": 28,
     "metadata": {},
     "output_type": "execute_result"
    }
   ],
   "source": [
    "div_captions"
   ]
  },
  {
   "cell_type": "code",
   "execution_count": null,
   "metadata": {},
   "outputs": [],
   "source": []
  }
 ],
 "metadata": {
  "kernelspec": {
   "display_name": "Python 2",
   "language": "python",
   "name": "python2"
  },
  "language_info": {
   "codemirror_mode": {
    "name": "ipython",
    "version": 2
   },
   "file_extension": ".py",
   "mimetype": "text/x-python",
   "name": "python",
   "nbconvert_exporter": "python",
   "pygments_lexer": "ipython2",
   "version": "2.7.16"
  }
 },
 "nbformat": 4,
 "nbformat_minor": 2
}
